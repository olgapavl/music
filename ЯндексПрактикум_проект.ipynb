{
  "nbformat": 4,
  "nbformat_minor": 0,
  "metadata": {
    "ExecuteTimeLog": [
      {
        "duration": 578,
        "start_time": "2021-09-17T12:49:12.778Z"
      },
      {
        "duration": 229,
        "start_time": "2021-09-17T12:50:32.098Z"
      },
      {
        "duration": 1610,
        "start_time": "2021-09-17T12:50:41.760Z"
      },
      {
        "duration": 1343,
        "start_time": "2021-09-17T12:51:02.081Z"
      },
      {
        "duration": 124,
        "start_time": "2021-09-17T12:51:09.858Z"
      },
      {
        "duration": 546,
        "start_time": "2021-09-17T12:51:31.070Z"
      },
      {
        "duration": 125,
        "start_time": "2021-09-17T12:51:34.260Z"
      },
      {
        "duration": 17,
        "start_time": "2021-09-17T12:51:51.810Z"
      },
      {
        "duration": 24,
        "start_time": "2021-09-17T12:52:15.818Z"
      },
      {
        "duration": 5,
        "start_time": "2021-09-17T12:55:27.486Z"
      },
      {
        "duration": 54,
        "start_time": "2021-09-17T13:00:02.626Z"
      },
      {
        "duration": 6,
        "start_time": "2021-09-17T13:01:00.435Z"
      },
      {
        "duration": 69,
        "start_time": "2021-09-17T13:06:32.456Z"
      },
      {
        "duration": 69,
        "start_time": "2021-09-17T13:06:40.611Z"
      },
      {
        "duration": 49,
        "start_time": "2021-09-17T13:08:38.332Z"
      },
      {
        "duration": 4,
        "start_time": "2021-09-17T13:11:35.135Z"
      },
      {
        "duration": 4,
        "start_time": "2021-09-17T13:11:39.696Z"
      },
      {
        "duration": 8,
        "start_time": "2021-09-17T13:34:46.229Z"
      },
      {
        "duration": 8,
        "start_time": "2021-09-17T13:35:23.080Z"
      },
      {
        "duration": 552,
        "start_time": "2021-09-17T13:35:40.871Z"
      },
      {
        "duration": 128,
        "start_time": "2021-09-17T13:35:43.405Z"
      },
      {
        "duration": 18,
        "start_time": "2021-09-17T13:35:46.007Z"
      },
      {
        "duration": 24,
        "start_time": "2021-09-17T13:35:50.740Z"
      },
      {
        "duration": 4,
        "start_time": "2021-09-17T13:35:58.745Z"
      },
      {
        "duration": 3,
        "start_time": "2021-09-17T13:36:01.530Z"
      },
      {
        "duration": 4,
        "start_time": "2021-09-17T13:36:04.278Z"
      },
      {
        "duration": 22,
        "start_time": "2021-09-17T13:36:07.780Z"
      },
      {
        "duration": 10,
        "start_time": "2021-09-17T13:36:28.880Z"
      },
      {
        "duration": 11,
        "start_time": "2021-09-17T13:36:53.357Z"
      },
      {
        "duration": 24,
        "start_time": "2021-09-17T13:37:15.192Z"
      },
      {
        "duration": 9,
        "start_time": "2021-09-17T13:38:33.937Z"
      },
      {
        "duration": 10,
        "start_time": "2021-09-17T13:38:47.760Z"
      },
      {
        "duration": 22,
        "start_time": "2021-09-17T13:38:50.379Z"
      },
      {
        "duration": 12,
        "start_time": "2021-09-17T13:40:31.075Z"
      },
      {
        "duration": 22,
        "start_time": "2021-09-17T13:40:51.394Z"
      },
      {
        "duration": 287,
        "start_time": "2021-09-17T13:41:52.789Z"
      },
      {
        "duration": 173,
        "start_time": "2021-09-17T13:42:41.674Z"
      },
      {
        "duration": 177,
        "start_time": "2021-09-17T13:43:12.238Z"
      },
      {
        "duration": 179,
        "start_time": "2021-09-17T13:43:33.983Z"
      },
      {
        "duration": 222,
        "start_time": "2021-09-17T13:44:25.043Z"
      },
      {
        "duration": 197,
        "start_time": "2021-09-17T13:45:00.394Z"
      },
      {
        "duration": 373,
        "start_time": "2021-09-17T13:45:33.112Z"
      },
      {
        "duration": 312,
        "start_time": "2021-09-18T09:37:12.129Z"
      },
      {
        "duration": 763,
        "start_time": "2021-09-18T09:37:34.523Z"
      },
      {
        "duration": 178,
        "start_time": "2021-09-18T09:37:37.594Z"
      },
      {
        "duration": 25,
        "start_time": "2021-09-18T09:37:39.045Z"
      },
      {
        "duration": 32,
        "start_time": "2021-09-18T09:37:42.172Z"
      },
      {
        "duration": 6,
        "start_time": "2021-09-18T09:37:49.304Z"
      },
      {
        "duration": 4,
        "start_time": "2021-09-18T09:37:54.250Z"
      },
      {
        "duration": 5,
        "start_time": "2021-09-18T09:37:55.527Z"
      },
      {
        "duration": 34,
        "start_time": "2021-09-18T09:37:57.795Z"
      },
      {
        "duration": 13,
        "start_time": "2021-09-18T09:38:01.323Z"
      },
      {
        "duration": 12,
        "start_time": "2021-09-18T09:38:02.518Z"
      },
      {
        "duration": 30,
        "start_time": "2021-09-18T09:38:03.632Z"
      },
      {
        "duration": 329,
        "start_time": "2021-09-18T09:38:06.369Z"
      },
      {
        "duration": 365,
        "start_time": "2021-09-18T09:38:20.642Z"
      },
      {
        "duration": 255,
        "start_time": "2021-09-18T09:39:38.008Z"
      },
      {
        "duration": 286,
        "start_time": "2021-09-18T09:39:47.495Z"
      },
      {
        "duration": 287,
        "start_time": "2021-09-18T09:41:39.122Z"
      },
      {
        "duration": 28,
        "start_time": "2021-09-18T09:42:04.523Z"
      },
      {
        "duration": 35,
        "start_time": "2021-09-18T09:42:08.235Z"
      },
      {
        "duration": 689,
        "start_time": "2021-09-19T06:11:51.682Z"
      },
      {
        "duration": 175,
        "start_time": "2021-09-19T06:11:53.320Z"
      },
      {
        "duration": 25,
        "start_time": "2021-09-19T06:11:54.697Z"
      },
      {
        "duration": 30,
        "start_time": "2021-09-19T06:11:57.012Z"
      },
      {
        "duration": 6,
        "start_time": "2021-09-19T06:12:05.839Z"
      },
      {
        "duration": 4,
        "start_time": "2021-09-19T06:12:10.867Z"
      },
      {
        "duration": 6,
        "start_time": "2021-09-19T06:12:14.511Z"
      },
      {
        "duration": 30,
        "start_time": "2021-09-19T06:12:18.126Z"
      },
      {
        "duration": 12,
        "start_time": "2021-09-19T06:12:20.753Z"
      },
      {
        "duration": 13,
        "start_time": "2021-09-19T06:12:26.534Z"
      },
      {
        "duration": 30,
        "start_time": "2021-09-19T06:12:29.099Z"
      },
      {
        "duration": 22,
        "start_time": "2021-09-19T06:12:39.511Z"
      },
      {
        "duration": 31,
        "start_time": "2021-09-19T06:12:42.069Z"
      },
      {
        "duration": 81,
        "start_time": "2021-09-19T06:14:14.025Z"
      },
      {
        "duration": 97,
        "start_time": "2021-09-19T06:15:45.243Z"
      },
      {
        "duration": 78,
        "start_time": "2021-09-19T06:16:00.303Z"
      },
      {
        "duration": 8,
        "start_time": "2021-09-19T06:17:59.148Z"
      },
      {
        "duration": 11,
        "start_time": "2021-09-19T06:18:20.767Z"
      },
      {
        "duration": 554,
        "start_time": "2021-09-19T06:26:23.472Z"
      },
      {
        "duration": 4,
        "start_time": "2021-09-19T06:26:30.665Z"
      },
      {
        "duration": 4,
        "start_time": "2021-09-19T06:28:15.509Z"
      },
      {
        "duration": 4,
        "start_time": "2021-09-19T06:29:12.115Z"
      },
      {
        "duration": 1191,
        "start_time": "2021-09-19T06:35:49.722Z"
      },
      {
        "duration": 122,
        "start_time": "2021-09-19T06:36:51.933Z"
      },
      {
        "duration": 4,
        "start_time": "2021-09-19T06:37:05.721Z"
      },
      {
        "duration": 4,
        "start_time": "2021-09-19T06:39:37.243Z"
      },
      {
        "duration": 6,
        "start_time": "2021-09-19T06:40:35.188Z"
      },
      {
        "duration": 5,
        "start_time": "2021-09-19T06:41:00.946Z"
      },
      {
        "duration": 6,
        "start_time": "2021-09-19T06:41:17.855Z"
      },
      {
        "duration": 432,
        "start_time": "2021-09-19T11:37:10.403Z"
      },
      {
        "duration": 4,
        "start_time": "2021-09-19T11:37:15.974Z"
      },
      {
        "duration": 16,
        "start_time": "2021-09-19T11:37:53.761Z"
      },
      {
        "duration": 27,
        "start_time": "2021-09-19T11:40:41.663Z"
      },
      {
        "duration": 3,
        "start_time": "2021-09-19T11:59:26.008Z"
      },
      {
        "duration": 680,
        "start_time": "2021-09-19T11:59:41.199Z"
      },
      {
        "duration": 186,
        "start_time": "2021-09-19T11:59:42.707Z"
      },
      {
        "duration": 28,
        "start_time": "2021-09-19T11:59:43.683Z"
      },
      {
        "duration": 34,
        "start_time": "2021-09-19T11:59:45.128Z"
      },
      {
        "duration": 7,
        "start_time": "2021-09-19T11:59:47.821Z"
      },
      {
        "duration": 5,
        "start_time": "2021-09-19T11:59:49.925Z"
      },
      {
        "duration": 6,
        "start_time": "2021-09-19T11:59:50.727Z"
      },
      {
        "duration": 31,
        "start_time": "2021-09-19T11:59:52.096Z"
      },
      {
        "duration": 12,
        "start_time": "2021-09-19T11:59:53.827Z"
      },
      {
        "duration": 15,
        "start_time": "2021-09-19T11:59:54.572Z"
      },
      {
        "duration": 28,
        "start_time": "2021-09-19T11:59:55.307Z"
      },
      {
        "duration": 22,
        "start_time": "2021-09-19T11:59:56.875Z"
      },
      {
        "duration": 29,
        "start_time": "2021-09-19T11:59:57.562Z"
      },
      {
        "duration": 79,
        "start_time": "2021-09-19T11:59:58.921Z"
      },
      {
        "duration": 101,
        "start_time": "2021-09-19T12:00:00.078Z"
      },
      {
        "duration": 75,
        "start_time": "2021-09-19T12:00:01.983Z"
      },
      {
        "duration": 9,
        "start_time": "2021-09-19T12:00:04.984Z"
      },
      {
        "duration": 5,
        "start_time": "2021-09-19T12:00:09.061Z"
      },
      {
        "duration": 4,
        "start_time": "2021-09-19T12:00:10.538Z"
      },
      {
        "duration": 5,
        "start_time": "2021-09-19T12:00:12.264Z"
      },
      {
        "duration": 5,
        "start_time": "2021-09-19T12:00:14.667Z"
      },
      {
        "duration": 4,
        "start_time": "2021-09-19T12:02:08.134Z"
      },
      {
        "duration": 15,
        "start_time": "2021-09-19T12:02:11.513Z"
      },
      {
        "duration": 5,
        "start_time": "2021-09-19T12:08:58.492Z"
      },
      {
        "duration": 680,
        "start_time": "2021-09-19T12:09:05.537Z"
      },
      {
        "duration": 5,
        "start_time": "2021-09-19T12:09:11.678Z"
      },
      {
        "duration": 777,
        "start_time": "2021-09-19T12:09:26.410Z"
      },
      {
        "duration": 30,
        "start_time": "2021-09-19T12:09:38.535Z"
      },
      {
        "duration": 5,
        "start_time": "2021-09-19T12:10:47.244Z"
      },
      {
        "duration": 17,
        "start_time": "2021-09-19T12:10:50.220Z"
      },
      {
        "duration": 29,
        "start_time": "2021-09-19T12:10:52.974Z"
      },
      {
        "duration": 5,
        "start_time": "2021-09-19T12:17:50.204Z"
      },
      {
        "duration": 15,
        "start_time": "2021-09-19T12:17:52.085Z"
      },
      {
        "duration": 45,
        "start_time": "2021-09-19T12:17:54.210Z"
      },
      {
        "duration": 30,
        "start_time": "2021-09-19T12:19:21.975Z"
      },
      {
        "duration": 31,
        "start_time": "2021-09-19T12:19:26.640Z"
      },
      {
        "duration": 15,
        "start_time": "2021-09-19T12:20:09.483Z"
      },
      {
        "duration": 712,
        "start_time": "2021-09-19T12:20:19.170Z"
      },
      {
        "duration": 179,
        "start_time": "2021-09-19T12:20:20.523Z"
      },
      {
        "duration": 26,
        "start_time": "2021-09-19T12:20:21.485Z"
      },
      {
        "duration": 33,
        "start_time": "2021-09-19T12:20:23.070Z"
      },
      {
        "duration": 5,
        "start_time": "2021-09-19T12:20:26.048Z"
      },
      {
        "duration": 4,
        "start_time": "2021-09-19T12:20:28.594Z"
      },
      {
        "duration": 6,
        "start_time": "2021-09-19T12:20:34.338Z"
      },
      {
        "duration": 30,
        "start_time": "2021-09-19T12:20:41.855Z"
      },
      {
        "duration": 12,
        "start_time": "2021-09-19T12:20:47.294Z"
      },
      {
        "duration": 11,
        "start_time": "2021-09-19T12:20:48.405Z"
      },
      {
        "duration": 31,
        "start_time": "2021-09-19T12:20:50.070Z"
      },
      {
        "duration": 22,
        "start_time": "2021-09-19T12:21:03.352Z"
      },
      {
        "duration": 30,
        "start_time": "2021-09-19T12:21:04.764Z"
      },
      {
        "duration": 82,
        "start_time": "2021-09-19T12:21:06.685Z"
      },
      {
        "duration": 106,
        "start_time": "2021-09-19T12:24:59.408Z"
      },
      {
        "duration": 82,
        "start_time": "2021-09-19T12:25:01.039Z"
      },
      {
        "duration": 10,
        "start_time": "2021-09-19T12:25:20.638Z"
      },
      {
        "duration": 5,
        "start_time": "2021-09-19T12:25:44.474Z"
      },
      {
        "duration": 5,
        "start_time": "2021-09-19T12:25:49.599Z"
      },
      {
        "duration": 5,
        "start_time": "2021-09-19T12:25:51.054Z"
      },
      {
        "duration": 5,
        "start_time": "2021-09-19T12:25:52.642Z"
      },
      {
        "duration": 4,
        "start_time": "2021-09-19T12:25:58.726Z"
      },
      {
        "duration": 15,
        "start_time": "2021-09-19T12:26:03.063Z"
      },
      {
        "duration": 32,
        "start_time": "2021-09-19T12:26:05.181Z"
      },
      {
        "duration": 13,
        "start_time": "2021-09-19T12:30:21.524Z"
      },
      {
        "duration": 731,
        "start_time": "2021-09-19T12:32:17.449Z"
      },
      {
        "duration": 183,
        "start_time": "2021-09-19T12:32:18.182Z"
      },
      {
        "duration": 26,
        "start_time": "2021-09-19T12:32:18.368Z"
      },
      {
        "duration": 36,
        "start_time": "2021-09-19T12:32:18.397Z"
      },
      {
        "duration": 19,
        "start_time": "2021-09-19T12:32:18.436Z"
      },
      {
        "duration": 4,
        "start_time": "2021-09-19T12:32:18.457Z"
      },
      {
        "duration": 18,
        "start_time": "2021-09-19T12:32:18.464Z"
      },
      {
        "duration": 44,
        "start_time": "2021-09-19T12:32:18.484Z"
      },
      {
        "duration": 29,
        "start_time": "2021-09-19T12:32:18.532Z"
      },
      {
        "duration": 13,
        "start_time": "2021-09-19T12:32:18.564Z"
      },
      {
        "duration": 34,
        "start_time": "2021-09-19T12:32:18.579Z"
      },
      {
        "duration": 45,
        "start_time": "2021-09-19T12:32:18.616Z"
      },
      {
        "duration": 30,
        "start_time": "2021-09-19T12:32:18.663Z"
      },
      {
        "duration": 101,
        "start_time": "2021-09-19T12:32:18.696Z"
      },
      {
        "duration": 113,
        "start_time": "2021-09-19T12:32:18.800Z"
      },
      {
        "duration": 87,
        "start_time": "2021-09-19T12:32:18.915Z"
      },
      {
        "duration": 9,
        "start_time": "2021-09-19T12:32:19.005Z"
      },
      {
        "duration": 5,
        "start_time": "2021-09-19T12:32:19.017Z"
      },
      {
        "duration": 33,
        "start_time": "2021-09-19T12:32:19.025Z"
      },
      {
        "duration": 13,
        "start_time": "2021-09-19T12:32:19.060Z"
      },
      {
        "duration": 14,
        "start_time": "2021-09-19T12:32:19.075Z"
      },
      {
        "duration": 10,
        "start_time": "2021-09-19T12:32:19.091Z"
      },
      {
        "duration": 23,
        "start_time": "2021-09-19T12:32:19.104Z"
      },
      {
        "duration": 51,
        "start_time": "2021-09-19T12:32:19.129Z"
      },
      {
        "duration": 36,
        "start_time": "2021-09-19T12:34:13.312Z"
      },
      {
        "duration": 36,
        "start_time": "2021-09-19T12:36:07.093Z"
      },
      {
        "duration": 16,
        "start_time": "2021-09-19T12:36:47.516Z"
      },
      {
        "duration": 16,
        "start_time": "2021-09-19T12:36:49.220Z"
      },
      {
        "duration": 28,
        "start_time": "2021-09-19T12:36:52.846Z"
      },
      {
        "duration": 738,
        "start_time": "2021-09-19T12:39:32.538Z"
      },
      {
        "duration": 181,
        "start_time": "2021-09-19T12:39:33.674Z"
      },
      {
        "duration": 26,
        "start_time": "2021-09-19T12:39:34.625Z"
      },
      {
        "duration": 35,
        "start_time": "2021-09-19T12:39:38.219Z"
      },
      {
        "duration": 6,
        "start_time": "2021-09-19T12:39:41.712Z"
      },
      {
        "duration": 4,
        "start_time": "2021-09-19T12:39:44.135Z"
      },
      {
        "duration": 5,
        "start_time": "2021-09-19T12:39:45.471Z"
      },
      {
        "duration": 29,
        "start_time": "2021-09-19T12:39:47.674Z"
      },
      {
        "duration": 11,
        "start_time": "2021-09-19T12:39:49.862Z"
      },
      {
        "duration": 12,
        "start_time": "2021-09-19T12:39:51.200Z"
      },
      {
        "duration": 31,
        "start_time": "2021-09-19T12:39:52.177Z"
      },
      {
        "duration": 21,
        "start_time": "2021-09-19T12:39:54.622Z"
      },
      {
        "duration": 28,
        "start_time": "2021-09-19T12:39:55.421Z"
      },
      {
        "duration": 80,
        "start_time": "2021-09-19T12:39:57.843Z"
      },
      {
        "duration": 103,
        "start_time": "2021-09-19T12:39:59.751Z"
      },
      {
        "duration": 84,
        "start_time": "2021-09-19T12:40:00.570Z"
      },
      {
        "duration": 10,
        "start_time": "2021-09-19T12:40:03.230Z"
      },
      {
        "duration": 5,
        "start_time": "2021-09-19T12:40:07.660Z"
      },
      {
        "duration": 5,
        "start_time": "2021-09-19T12:40:10.015Z"
      },
      {
        "duration": 5,
        "start_time": "2021-09-19T12:40:12.709Z"
      },
      {
        "duration": 6,
        "start_time": "2021-09-19T12:40:13.430Z"
      },
      {
        "duration": 5,
        "start_time": "2021-09-19T12:40:21.095Z"
      },
      {
        "duration": 14,
        "start_time": "2021-09-19T12:40:22.511Z"
      },
      {
        "duration": 15,
        "start_time": "2021-09-19T12:40:23.588Z"
      },
      {
        "duration": 14,
        "start_time": "2021-09-19T12:40:24.364Z"
      },
      {
        "duration": 30,
        "start_time": "2021-09-19T12:40:26.489Z"
      },
      {
        "duration": 4,
        "start_time": "2021-09-19T12:48:56.496Z"
      },
      {
        "duration": 32,
        "start_time": "2021-09-19T12:48:56.503Z"
      },
      {
        "duration": 5,
        "start_time": "2021-09-19T15:30:45.535Z"
      },
      {
        "duration": 19,
        "start_time": "2021-09-19T15:30:49.058Z"
      },
      {
        "duration": 13,
        "start_time": "2021-09-19T15:30:50.241Z"
      },
      {
        "duration": 14,
        "start_time": "2021-09-19T15:30:50.883Z"
      },
      {
        "duration": 29,
        "start_time": "2021-09-19T15:30:52.282Z"
      },
      {
        "duration": 782,
        "start_time": "2021-09-21T14:14:38.113Z"
      },
      {
        "duration": 187,
        "start_time": "2021-09-21T14:14:40.269Z"
      },
      {
        "duration": 37,
        "start_time": "2021-09-21T14:14:42.161Z"
      },
      {
        "duration": 35,
        "start_time": "2021-09-21T14:14:46.460Z"
      },
      {
        "duration": 5,
        "start_time": "2021-09-21T14:15:23.570Z"
      },
      {
        "duration": 4,
        "start_time": "2021-09-21T14:15:28.473Z"
      },
      {
        "duration": 5,
        "start_time": "2021-09-21T14:15:30.179Z"
      },
      {
        "duration": 32,
        "start_time": "2021-09-21T14:15:38.634Z"
      },
      {
        "duration": 12,
        "start_time": "2021-09-21T14:15:54.576Z"
      },
      {
        "duration": 16,
        "start_time": "2021-09-21T14:15:55.843Z"
      },
      {
        "duration": 39,
        "start_time": "2021-09-21T14:15:57.014Z"
      },
      {
        "duration": 21,
        "start_time": "2021-09-21T14:16:04.073Z"
      },
      {
        "duration": 29,
        "start_time": "2021-09-21T14:16:06.480Z"
      },
      {
        "duration": 81,
        "start_time": "2021-09-21T14:16:09.715Z"
      },
      {
        "duration": 99,
        "start_time": "2021-09-21T14:16:21.560Z"
      },
      {
        "duration": 77,
        "start_time": "2021-09-21T14:16:23.552Z"
      },
      {
        "duration": 9,
        "start_time": "2021-09-21T14:16:41.656Z"
      },
      {
        "duration": 5,
        "start_time": "2021-09-21T14:17:18.911Z"
      },
      {
        "duration": 5,
        "start_time": "2021-09-21T14:17:21.140Z"
      },
      {
        "duration": 5,
        "start_time": "2021-09-21T14:17:23.490Z"
      },
      {
        "duration": 5,
        "start_time": "2021-09-21T14:17:24.382Z"
      },
      {
        "duration": 4,
        "start_time": "2021-09-21T14:17:32.263Z"
      },
      {
        "duration": 15,
        "start_time": "2021-09-21T14:17:46.704Z"
      },
      {
        "duration": 14,
        "start_time": "2021-09-21T14:17:47.634Z"
      },
      {
        "duration": 14,
        "start_time": "2021-09-21T14:17:48.682Z"
      },
      {
        "duration": 30,
        "start_time": "2021-09-21T14:17:53.208Z"
      },
      {
        "duration": 5,
        "start_time": "2021-09-21T14:19:57.991Z"
      },
      {
        "duration": 12,
        "start_time": "2021-09-21T14:20:01.807Z"
      },
      {
        "duration": 14,
        "start_time": "2021-09-21T14:20:02.712Z"
      },
      {
        "duration": 13,
        "start_time": "2021-09-21T14:20:03.527Z"
      },
      {
        "duration": 30,
        "start_time": "2021-09-21T14:20:05.207Z"
      },
      {
        "duration": 11,
        "start_time": "2021-09-21T14:21:09.029Z"
      },
      {
        "duration": 11,
        "start_time": "2021-09-21T14:21:21.464Z"
      },
      {
        "duration": 11,
        "start_time": "2021-09-21T14:21:32.302Z"
      },
      {
        "duration": 10,
        "start_time": "2021-09-21T14:21:39.725Z"
      },
      {
        "duration": 130,
        "start_time": "2021-09-21T14:22:34.223Z"
      },
      {
        "duration": 4,
        "start_time": "2021-09-21T14:22:41.908Z"
      },
      {
        "duration": 14,
        "start_time": "2021-09-21T14:22:43.930Z"
      },
      {
        "duration": 14,
        "start_time": "2021-09-21T14:22:44.798Z"
      },
      {
        "duration": 13,
        "start_time": "2021-09-21T14:22:45.456Z"
      },
      {
        "duration": 12,
        "start_time": "2021-09-21T14:22:47.738Z"
      },
      {
        "duration": 29,
        "start_time": "2021-09-21T14:22:52.481Z"
      },
      {
        "duration": 5,
        "start_time": "2021-09-21T14:46:08.675Z"
      },
      {
        "duration": 14,
        "start_time": "2021-09-21T14:46:11.604Z"
      },
      {
        "duration": 13,
        "start_time": "2021-09-21T14:46:12.433Z"
      },
      {
        "duration": 13,
        "start_time": "2021-09-21T14:46:13.252Z"
      },
      {
        "duration": 11,
        "start_time": "2021-09-21T14:46:14.082Z"
      },
      {
        "duration": 29,
        "start_time": "2021-09-21T14:46:16.082Z"
      },
      {
        "duration": 4,
        "start_time": "2021-09-21T14:46:43.820Z"
      },
      {
        "duration": 5,
        "start_time": "2021-09-21T14:46:46.703Z"
      },
      {
        "duration": 5,
        "start_time": "2021-09-21T14:46:47.619Z"
      },
      {
        "duration": 5,
        "start_time": "2021-09-21T14:46:48.371Z"
      },
      {
        "duration": 4,
        "start_time": "2021-09-21T14:46:50.489Z"
      },
      {
        "duration": 14,
        "start_time": "2021-09-21T14:46:52.627Z"
      },
      {
        "duration": 13,
        "start_time": "2021-09-21T14:46:53.472Z"
      },
      {
        "duration": 13,
        "start_time": "2021-09-21T14:46:54.566Z"
      },
      {
        "duration": 10,
        "start_time": "2021-09-21T14:46:59.915Z"
      },
      {
        "duration": 29,
        "start_time": "2021-09-21T14:47:03.820Z"
      },
      {
        "duration": 802,
        "start_time": "2021-09-21T14:51:10.201Z"
      },
      {
        "duration": 188,
        "start_time": "2021-09-21T14:51:11.967Z"
      },
      {
        "duration": 27,
        "start_time": "2021-09-21T14:51:13.631Z"
      },
      {
        "duration": 33,
        "start_time": "2021-09-21T14:51:16.350Z"
      },
      {
        "duration": 6,
        "start_time": "2021-09-21T14:51:22.271Z"
      },
      {
        "duration": 5,
        "start_time": "2021-09-21T14:51:25.045Z"
      },
      {
        "duration": 7,
        "start_time": "2021-09-21T14:51:25.804Z"
      },
      {
        "duration": 30,
        "start_time": "2021-09-21T14:51:27.852Z"
      },
      {
        "duration": 12,
        "start_time": "2021-09-21T14:51:30.571Z"
      },
      {
        "duration": 12,
        "start_time": "2021-09-21T14:51:31.251Z"
      },
      {
        "duration": 31,
        "start_time": "2021-09-21T14:51:31.922Z"
      },
      {
        "duration": 21,
        "start_time": "2021-09-21T14:51:35.635Z"
      },
      {
        "duration": 29,
        "start_time": "2021-09-21T14:51:37.492Z"
      },
      {
        "duration": 83,
        "start_time": "2021-09-21T14:51:40.212Z"
      },
      {
        "duration": 97,
        "start_time": "2021-09-21T14:51:44.148Z"
      },
      {
        "duration": 76,
        "start_time": "2021-09-21T14:51:46.040Z"
      },
      {
        "duration": 9,
        "start_time": "2021-09-21T14:51:51.819Z"
      },
      {
        "duration": 5,
        "start_time": "2021-09-21T14:51:55.508Z"
      },
      {
        "duration": 5,
        "start_time": "2021-09-21T14:51:57.446Z"
      },
      {
        "duration": 5,
        "start_time": "2021-09-21T14:51:59.110Z"
      },
      {
        "duration": 6,
        "start_time": "2021-09-21T14:51:59.821Z"
      },
      {
        "duration": 5,
        "start_time": "2021-09-21T14:52:04.564Z"
      },
      {
        "duration": 15,
        "start_time": "2021-09-21T14:52:06.117Z"
      },
      {
        "duration": 14,
        "start_time": "2021-09-21T14:52:07.470Z"
      },
      {
        "duration": 14,
        "start_time": "2021-09-21T14:52:08.211Z"
      },
      {
        "duration": 4,
        "start_time": "2021-09-21T15:08:18.448Z"
      },
      {
        "duration": 3,
        "start_time": "2021-09-21T15:08:20.767Z"
      },
      {
        "duration": 3,
        "start_time": "2021-09-21T15:08:21.535Z"
      },
      {
        "duration": 3,
        "start_time": "2021-09-21T15:08:22.126Z"
      },
      {
        "duration": 4,
        "start_time": "2021-09-21T15:11:20.318Z"
      },
      {
        "duration": 794,
        "start_time": "2021-09-21T15:11:31.766Z"
      },
      {
        "duration": 178,
        "start_time": "2021-09-21T15:11:32.907Z"
      },
      {
        "duration": 25,
        "start_time": "2021-09-21T15:11:34.053Z"
      },
      {
        "duration": 33,
        "start_time": "2021-09-21T15:11:37.267Z"
      },
      {
        "duration": 6,
        "start_time": "2021-09-21T15:11:47.863Z"
      },
      {
        "duration": 4,
        "start_time": "2021-09-21T15:11:50.528Z"
      },
      {
        "duration": 6,
        "start_time": "2021-09-21T15:11:52.302Z"
      },
      {
        "duration": 30,
        "start_time": "2021-09-21T15:11:55.552Z"
      },
      {
        "duration": 11,
        "start_time": "2021-09-21T15:11:58.018Z"
      },
      {
        "duration": 11,
        "start_time": "2021-09-21T15:11:58.615Z"
      },
      {
        "duration": 30,
        "start_time": "2021-09-21T15:11:59.145Z"
      },
      {
        "duration": 21,
        "start_time": "2021-09-21T15:12:01.234Z"
      },
      {
        "duration": 33,
        "start_time": "2021-09-21T15:12:01.763Z"
      },
      {
        "duration": 81,
        "start_time": "2021-09-21T15:12:02.967Z"
      },
      {
        "duration": 106,
        "start_time": "2021-09-21T15:12:05.030Z"
      },
      {
        "duration": 76,
        "start_time": "2021-09-21T15:12:05.598Z"
      },
      {
        "duration": 10,
        "start_time": "2021-09-21T15:12:07.546Z"
      },
      {
        "duration": 4,
        "start_time": "2021-09-21T15:12:09.974Z"
      },
      {
        "duration": 5,
        "start_time": "2021-09-21T15:12:12.999Z"
      },
      {
        "duration": 6,
        "start_time": "2021-09-21T15:12:15.719Z"
      },
      {
        "duration": 5,
        "start_time": "2021-09-21T15:12:16.415Z"
      },
      {
        "duration": 5,
        "start_time": "2021-09-21T15:12:18.289Z"
      },
      {
        "duration": 16,
        "start_time": "2021-09-21T15:12:25.205Z"
      },
      {
        "duration": 29,
        "start_time": "2021-09-21T15:12:29.878Z"
      },
      {
        "duration": 32,
        "start_time": "2021-09-21T15:16:48.651Z"
      },
      {
        "duration": 14,
        "start_time": "2021-09-21T15:24:08.438Z"
      },
      {
        "duration": 32,
        "start_time": "2021-09-21T15:24:10.893Z"
      },
      {
        "duration": 732,
        "start_time": "2021-09-22T10:45:51.348Z"
      },
      {
        "duration": 179,
        "start_time": "2021-09-22T10:45:53.138Z"
      },
      {
        "duration": 28,
        "start_time": "2021-09-22T10:45:54.140Z"
      },
      {
        "duration": 35,
        "start_time": "2021-09-22T10:45:56.239Z"
      },
      {
        "duration": 5,
        "start_time": "2021-09-22T10:45:59.502Z"
      },
      {
        "duration": 5,
        "start_time": "2021-09-22T10:46:01.498Z"
      },
      {
        "duration": 6,
        "start_time": "2021-09-22T10:46:02.218Z"
      },
      {
        "duration": 29,
        "start_time": "2021-09-22T10:46:03.562Z"
      },
      {
        "duration": 11,
        "start_time": "2021-09-22T10:46:05.423Z"
      },
      {
        "duration": 11,
        "start_time": "2021-09-22T10:46:06.409Z"
      },
      {
        "duration": 30,
        "start_time": "2021-09-22T10:46:07.212Z"
      },
      {
        "duration": 21,
        "start_time": "2021-09-22T10:46:09.456Z"
      },
      {
        "duration": 28,
        "start_time": "2021-09-22T10:46:13.912Z"
      },
      {
        "duration": 83,
        "start_time": "2021-09-22T10:46:15.678Z"
      },
      {
        "duration": 110,
        "start_time": "2021-09-22T10:46:17.285Z"
      },
      {
        "duration": 10,
        "start_time": "2021-09-22T10:46:20.344Z"
      },
      {
        "duration": 5,
        "start_time": "2021-09-22T10:46:24.154Z"
      },
      {
        "duration": 5,
        "start_time": "2021-09-22T10:46:26.042Z"
      },
      {
        "duration": 6,
        "start_time": "2021-09-22T10:46:26.849Z"
      },
      {
        "duration": 5,
        "start_time": "2021-09-22T10:46:27.591Z"
      },
      {
        "duration": 5,
        "start_time": "2021-09-22T10:46:29.690Z"
      },
      {
        "duration": 15,
        "start_time": "2021-09-22T10:46:30.671Z"
      },
      {
        "duration": 31,
        "start_time": "2021-09-22T10:46:32.882Z"
      },
      {
        "duration": 19,
        "start_time": "2021-09-22T10:48:16.358Z"
      },
      {
        "duration": 20,
        "start_time": "2021-09-22T10:53:41.275Z"
      },
      {
        "duration": 1392,
        "start_time": "2021-09-22T11:02:01.939Z"
      },
      {
        "duration": 5,
        "start_time": "2021-09-22T11:02:08.458Z"
      },
      {
        "duration": 20,
        "start_time": "2021-09-22T11:02:09.473Z"
      },
      {
        "duration": 18,
        "start_time": "2021-09-22T11:02:10.591Z"
      },
      {
        "duration": 18,
        "start_time": "2021-09-22T11:02:11.465Z"
      },
      {
        "duration": 18,
        "start_time": "2021-09-22T11:02:12.485Z"
      },
      {
        "duration": 20,
        "start_time": "2021-09-22T11:02:13.260Z"
      },
      {
        "duration": 18,
        "start_time": "2021-09-22T11:02:17.946Z"
      },
      {
        "duration": 6,
        "start_time": "2021-09-22T11:03:51.733Z"
      },
      {
        "duration": 18,
        "start_time": "2021-09-22T11:03:59.690Z"
      },
      {
        "duration": 12,
        "start_time": "2021-09-22T11:06:51.208Z"
      },
      {
        "duration": 7565,
        "start_time": "2021-09-22T11:12:23.839Z"
      },
      {
        "duration": -984,
        "start_time": "2021-09-22T11:12:32.390Z"
      },
      {
        "duration": 289,
        "start_time": "2021-09-22T11:14:59.250Z"
      },
      {
        "duration": 15,
        "start_time": "2021-09-22T11:15:48.043Z"
      },
      {
        "duration": 14,
        "start_time": "2021-09-22T11:15:59.092Z"
      },
      {
        "duration": 5,
        "start_time": "2021-09-22T11:23:42.633Z"
      },
      {
        "duration": 25,
        "start_time": "2021-09-22T11:26:35.276Z"
      },
      {
        "duration": 344,
        "start_time": "2021-09-22T11:27:20.494Z"
      },
      {
        "duration": 311,
        "start_time": "2021-09-22T11:27:44.626Z"
      },
      {
        "duration": 27,
        "start_time": "2021-09-22T11:27:50.212Z"
      },
      {
        "duration": 22,
        "start_time": "2021-09-22T11:27:53.306Z"
      },
      {
        "duration": 26,
        "start_time": "2021-09-22T11:27:55.711Z"
      },
      {
        "duration": 19,
        "start_time": "2021-09-22T11:27:56.273Z"
      },
      {
        "duration": 304,
        "start_time": "2021-09-22T11:32:28.875Z"
      },
      {
        "duration": 12,
        "start_time": "2021-09-22T11:33:05.163Z"
      },
      {
        "duration": 19,
        "start_time": "2021-09-22T11:34:03.209Z"
      },
      {
        "duration": 263,
        "start_time": "2021-09-22T11:34:23.749Z"
      },
      {
        "duration": 19,
        "start_time": "2021-09-22T11:34:32.483Z"
      },
      {
        "duration": 297,
        "start_time": "2021-09-22T11:36:40.753Z"
      },
      {
        "duration": 290,
        "start_time": "2021-09-22T11:37:38.219Z"
      },
      {
        "duration": 17,
        "start_time": "2021-09-22T11:38:19.974Z"
      },
      {
        "duration": 629,
        "start_time": "2021-09-22T11:40:01.871Z"
      },
      {
        "duration": 522,
        "start_time": "2021-09-22T11:40:45.670Z"
      },
      {
        "duration": 277,
        "start_time": "2021-09-22T11:43:42.432Z"
      },
      {
        "duration": 286,
        "start_time": "2021-09-22T11:43:53.046Z"
      },
      {
        "duration": 18,
        "start_time": "2021-09-22T11:44:34.607Z"
      },
      {
        "duration": 458,
        "start_time": "2021-09-22T11:50:31.306Z"
      },
      {
        "duration": 305,
        "start_time": "2021-09-22T11:51:10.867Z"
      },
      {
        "duration": 273,
        "start_time": "2021-09-22T11:52:17.375Z"
      },
      {
        "duration": 21,
        "start_time": "2021-09-22T11:54:16.278Z"
      },
      {
        "duration": 655,
        "start_time": "2021-09-22T11:55:36.322Z"
      },
      {
        "duration": 19,
        "start_time": "2021-09-22T12:01:38.811Z"
      },
      {
        "duration": 61,
        "start_time": "2021-09-22T12:04:16.647Z"
      },
      {
        "duration": 63,
        "start_time": "2021-09-22T12:04:53.949Z"
      },
      {
        "duration": 61,
        "start_time": "2021-09-22T12:05:03.393Z"
      },
      {
        "duration": 61,
        "start_time": "2021-09-22T12:05:14.802Z"
      },
      {
        "duration": 17,
        "start_time": "2021-09-22T12:05:58.648Z"
      },
      {
        "duration": 276,
        "start_time": "2021-09-22T12:06:35.620Z"
      },
      {
        "duration": 335,
        "start_time": "2021-09-22T12:08:07.450Z"
      },
      {
        "duration": 19,
        "start_time": "2021-09-22T12:09:01.374Z"
      },
      {
        "duration": 322,
        "start_time": "2021-09-22T12:10:26.406Z"
      },
      {
        "duration": 465,
        "start_time": "2021-09-22T12:10:35.485Z"
      },
      {
        "duration": 280,
        "start_time": "2021-09-22T12:12:59.659Z"
      },
      {
        "duration": 16,
        "start_time": "2021-09-22T12:13:13.800Z"
      },
      {
        "duration": 20,
        "start_time": "2021-09-22T12:13:43.363Z"
      },
      {
        "duration": 40,
        "start_time": "2021-09-22T12:14:05.236Z"
      },
      {
        "duration": 8,
        "start_time": "2021-09-22T12:15:15.081Z"
      },
      {
        "duration": 14,
        "start_time": "2021-09-22T12:15:37.998Z"
      },
      {
        "duration": 277,
        "start_time": "2021-09-22T12:16:31.700Z"
      },
      {
        "duration": 15,
        "start_time": "2021-09-22T12:16:51.069Z"
      },
      {
        "duration": 7,
        "start_time": "2021-09-22T12:17:13.603Z"
      },
      {
        "duration": 12,
        "start_time": "2021-09-22T12:18:04.370Z"
      },
      {
        "duration": 270,
        "start_time": "2021-09-22T12:18:17.183Z"
      },
      {
        "duration": 7,
        "start_time": "2021-09-22T12:18:23.730Z"
      }
    ],
    "kernelspec": {
      "display_name": "Python 3",
      "language": "python",
      "name": "python3"
    },
    "language_info": {
      "codemirror_mode": {
        "name": "ipython",
        "version": 3
      },
      "file_extension": ".py",
      "mimetype": "text/x-python",
      "name": "python",
      "nbconvert_exporter": "python",
      "pygments_lexer": "ipython3",
      "version": "3.7.8"
    },
    "toc": {
      "base_numbering": 1,
      "nav_menu": {},
      "number_sections": true,
      "sideBar": true,
      "skip_h1_title": true,
      "title_cell": "Table of Contents",
      "title_sidebar": "Contents",
      "toc_cell": false,
      "toc_position": {},
      "toc_section_display": true,
      "toc_window_display": false
    },
    "colab": {
      "name": "ЯндексПрактикум проект.ipynb",
      "provenance": [],
      "include_colab_link": true
    }
  },
  "cells": [
    {
      "cell_type": "markdown",
      "metadata": {
        "id": "view-in-github",
        "colab_type": "text"
      },
      "source": [
        "<a href=\"https://colab.research.google.com/github/olgapavl/music/blob/main/%D0%AF%D0%BD%D0%B4%D0%B5%D0%BA%D1%81%D0%9F%D1%80%D0%B0%D0%BA%D1%82%D0%B8%D0%BA%D1%83%D0%BC_%D0%BF%D1%80%D0%BE%D0%B5%D0%BA%D1%82.ipynb\" target=\"_parent\"><img src=\"https://colab.research.google.com/assets/colab-badge.svg\" alt=\"Open In Colab\"/></a>"
      ]
    },
    {
      "cell_type": "markdown",
      "metadata": {
        "deletable": false,
        "editable": false,
        "id": "5UYxO1GdF6Wy",
        "tags": [
          "f6c88c58-a82b-4f28-8bd6-fd55c0017917"
        ]
      },
      "source": [
        "# Этап 1. Получение данных"
      ]
    },
    {
      "cell_type": "markdown",
      "metadata": {
        "deletable": false,
        "id": "iI4ITclJaFWh"
      },
      "source": [
        "Изучим данные, предоставленные сервисом для проекта."
      ]
    },
    {
      "cell_type": "markdown",
      "metadata": {
        "deletable": false,
        "id": "0skiEFxDZ0Tr"
      },
      "source": [
        "## Импорт библиотек"
      ]
    },
    {
      "cell_type": "code",
      "metadata": {
        "deletable": false,
        "id": "HirRov5vZ3MT"
      },
      "source": [
        "import pandas as pd# <импорт библиотеки pandas>"
      ],
      "execution_count": null,
      "outputs": []
    },
    {
      "cell_type": "markdown",
      "metadata": {
        "deletable": false,
        "id": "Tr8dl3PWGFIk"
      },
      "source": [
        "Прочитаем файл *music_project.csv* и сохраним его в переменной *df*. "
      ]
    },
    {
      "cell_type": "code",
      "metadata": {
        "deletable": false,
        "id": "NB6j931yS4hy"
      },
      "source": [
        "df = pd.read_csv('/datasets/music_project.csv', sep = ',')# <чтение файла с данными с сохранением в df>"
      ],
      "execution_count": null,
      "outputs": []
    },
    {
      "cell_type": "markdown",
      "metadata": {
        "deletable": false,
        "editable": false,
        "id": "y2usmNMlDLbY",
        "tags": [
          "f3a2f13f-d110-4558-a520-4805b5bd1dfe"
        ]
      },
      "source": [
        "Получение первых 10 строк таблицы."
      ]
    },
    {
      "cell_type": "code",
      "metadata": {
        "deletable": false,
        "id": "DY5i8tgXVDGj",
        "outputId": "45529284-3da2-4045-b104-e8d6a832198b"
      },
      "source": [
        "df.head(10) # <получение первых 10 строк таблицы df>"
      ],
      "execution_count": null,
      "outputs": [
        {
          "data": {
            "text/html": [
              "<div>\n",
              "<style scoped>\n",
              "    .dataframe tbody tr th:only-of-type {\n",
              "        vertical-align: middle;\n",
              "    }\n",
              "\n",
              "    .dataframe tbody tr th {\n",
              "        vertical-align: top;\n",
              "    }\n",
              "\n",
              "    .dataframe thead th {\n",
              "        text-align: right;\n",
              "    }\n",
              "</style>\n",
              "<table border=\"1\" class=\"dataframe\">\n",
              "  <thead>\n",
              "    <tr style=\"text-align: right;\">\n",
              "      <th></th>\n",
              "      <th>userID</th>\n",
              "      <th>Track</th>\n",
              "      <th>artist</th>\n",
              "      <th>genre</th>\n",
              "      <th>City</th>\n",
              "      <th>time</th>\n",
              "      <th>Day</th>\n",
              "    </tr>\n",
              "  </thead>\n",
              "  <tbody>\n",
              "    <tr>\n",
              "      <td>0</td>\n",
              "      <td>FFB692EC</td>\n",
              "      <td>Kamigata To Boots</td>\n",
              "      <td>The Mass Missile</td>\n",
              "      <td>rock</td>\n",
              "      <td>Saint-Petersburg</td>\n",
              "      <td>20:28:33</td>\n",
              "      <td>Wednesday</td>\n",
              "    </tr>\n",
              "    <tr>\n",
              "      <td>1</td>\n",
              "      <td>55204538</td>\n",
              "      <td>Delayed Because of Accident</td>\n",
              "      <td>Andreas Rönnberg</td>\n",
              "      <td>rock</td>\n",
              "      <td>Moscow</td>\n",
              "      <td>14:07:09</td>\n",
              "      <td>Friday</td>\n",
              "    </tr>\n",
              "    <tr>\n",
              "      <td>2</td>\n",
              "      <td>20EC38</td>\n",
              "      <td>Funiculì funiculà</td>\n",
              "      <td>Mario Lanza</td>\n",
              "      <td>pop</td>\n",
              "      <td>Saint-Petersburg</td>\n",
              "      <td>20:58:07</td>\n",
              "      <td>Wednesday</td>\n",
              "    </tr>\n",
              "    <tr>\n",
              "      <td>3</td>\n",
              "      <td>A3DD03C9</td>\n",
              "      <td>Dragons in the Sunset</td>\n",
              "      <td>Fire + Ice</td>\n",
              "      <td>folk</td>\n",
              "      <td>Saint-Petersburg</td>\n",
              "      <td>08:37:09</td>\n",
              "      <td>Monday</td>\n",
              "    </tr>\n",
              "    <tr>\n",
              "      <td>4</td>\n",
              "      <td>E2DC1FAE</td>\n",
              "      <td>Soul People</td>\n",
              "      <td>Space Echo</td>\n",
              "      <td>dance</td>\n",
              "      <td>Moscow</td>\n",
              "      <td>08:34:34</td>\n",
              "      <td>Monday</td>\n",
              "    </tr>\n",
              "    <tr>\n",
              "      <td>5</td>\n",
              "      <td>842029A1</td>\n",
              "      <td>Преданная</td>\n",
              "      <td>IMPERVTOR</td>\n",
              "      <td>rusrap</td>\n",
              "      <td>Saint-Petersburg</td>\n",
              "      <td>13:09:41</td>\n",
              "      <td>Friday</td>\n",
              "    </tr>\n",
              "    <tr>\n",
              "      <td>6</td>\n",
              "      <td>4CB90AA5</td>\n",
              "      <td>True</td>\n",
              "      <td>Roman Messer</td>\n",
              "      <td>dance</td>\n",
              "      <td>Moscow</td>\n",
              "      <td>13:00:07</td>\n",
              "      <td>Wednesday</td>\n",
              "    </tr>\n",
              "    <tr>\n",
              "      <td>7</td>\n",
              "      <td>F03E1C1F</td>\n",
              "      <td>Feeling This Way</td>\n",
              "      <td>Polina Griffith</td>\n",
              "      <td>dance</td>\n",
              "      <td>Moscow</td>\n",
              "      <td>20:47:49</td>\n",
              "      <td>Wednesday</td>\n",
              "    </tr>\n",
              "    <tr>\n",
              "      <td>8</td>\n",
              "      <td>8FA1D3BE</td>\n",
              "      <td>И вновь продолжается бой</td>\n",
              "      <td>NaN</td>\n",
              "      <td>ruspop</td>\n",
              "      <td>Moscow</td>\n",
              "      <td>09:17:40</td>\n",
              "      <td>Friday</td>\n",
              "    </tr>\n",
              "    <tr>\n",
              "      <td>9</td>\n",
              "      <td>E772D5C0</td>\n",
              "      <td>Pessimist</td>\n",
              "      <td>NaN</td>\n",
              "      <td>dance</td>\n",
              "      <td>Saint-Petersburg</td>\n",
              "      <td>21:20:49</td>\n",
              "      <td>Wednesday</td>\n",
              "    </tr>\n",
              "  </tbody>\n",
              "</table>\n",
              "</div>"
            ],
            "text/plain": [
              "     userID                        Track            artist   genre  \\\n",
              "0  FFB692EC            Kamigata To Boots  The Mass Missile    rock   \n",
              "1  55204538  Delayed Because of Accident  Andreas Rönnberg    rock   \n",
              "2    20EC38            Funiculì funiculà       Mario Lanza     pop   \n",
              "3  A3DD03C9        Dragons in the Sunset        Fire + Ice    folk   \n",
              "4  E2DC1FAE                  Soul People        Space Echo   dance   \n",
              "5  842029A1                    Преданная         IMPERVTOR  rusrap   \n",
              "6  4CB90AA5                         True      Roman Messer   dance   \n",
              "7  F03E1C1F             Feeling This Way   Polina Griffith   dance   \n",
              "8  8FA1D3BE     И вновь продолжается бой               NaN  ruspop   \n",
              "9  E772D5C0                    Pessimist               NaN   dance   \n",
              "\n",
              "             City        time        Day  \n",
              "0  Saint-Petersburg  20:28:33  Wednesday  \n",
              "1            Moscow  14:07:09     Friday  \n",
              "2  Saint-Petersburg  20:58:07  Wednesday  \n",
              "3  Saint-Petersburg  08:37:09     Monday  \n",
              "4            Moscow  08:34:34     Monday  \n",
              "5  Saint-Petersburg  13:09:41     Friday  \n",
              "6            Moscow  13:00:07  Wednesday  \n",
              "7            Moscow  20:47:49  Wednesday  \n",
              "8            Moscow  09:17:40     Friday  \n",
              "9  Saint-Petersburg  21:20:49  Wednesday  "
            ]
          },
          "execution_count": 3,
          "metadata": {},
          "output_type": "execute_result"
        }
      ]
    },
    {
      "cell_type": "markdown",
      "metadata": {
        "deletable": false,
        "editable": false,
        "id": "FrIiRHuHIBbN",
        "tags": [
          "0210c096-9595-4600-b91d-42ab36a6c3f0"
        ]
      },
      "source": [
        "Общая информация о данных таблицы *df*.\n",
        "\n",
        "\n"
      ]
    },
    {
      "cell_type": "code",
      "metadata": {
        "deletable": false,
        "id": "K7t8OdZsYN2y",
        "outputId": "aef09faf-c128-456e-f307-8f64b79d0164"
      },
      "source": [
        "df.info() # <получение общей информации о данных в таблице df>"
      ],
      "execution_count": null,
      "outputs": [
        {
          "name": "stdout",
          "output_type": "stream",
          "text": [
            "<class 'pandas.core.frame.DataFrame'>\n",
            "RangeIndex: 65079 entries, 0 to 65078\n",
            "Data columns (total 7 columns):\n",
            "  userID    65079 non-null object\n",
            "Track       63848 non-null object\n",
            "artist      57876 non-null object\n",
            "genre       63881 non-null object\n",
            "  City      65079 non-null object\n",
            "time        65079 non-null object\n",
            "Day         65079 non-null object\n",
            "dtypes: object(7)\n",
            "memory usage: 3.5+ MB\n"
          ]
        }
      ]
    },
    {
      "cell_type": "markdown",
      "metadata": {
        "deletable": false,
        "id": "CnHv9HZCc7LN"
      },
      "source": [
        "Рассмотрим полученную информацию подробнее.\n",
        "\n",
        "Всего в таблице 7 столбцов, тип данных у каждого столбца - < object >.\n",
        "\n",
        "Подробно разберём, какие в *df* столбцы и какую информацию они содержат:\n",
        "\n",
        "* userID — идентификатор пользователя;\n",
        "* Track — название трека;  \n",
        "* artist — имя исполнителя;\n",
        "* genre — название жанра;\n",
        "* City — город, в котором происходило прослушивание;\n",
        "* time — время, в которое пользователь слушал трек;\n",
        "* Day — день недели.\n",
        "\n",
        "Количество значений в столбцах различается. Это говорит о том, что в данных есть пустые значения.\n",
        "\n"
      ]
    },
    {
      "cell_type": "markdown",
      "metadata": {
        "deletable": false,
        "id": "DCYFm5VrevuB"
      },
      "source": [
        "**Выводы**"
      ]
    },
    {
      "cell_type": "markdown",
      "metadata": {
        "deletable": false,
        "id": "PCEtjdmvezRm"
      },
      "source": [
        "Каждая строка таблицы содержит информацию о композициях определённого жанра в определённом исполнении, которые пользователи слушали в одном из городов в определённое время и день недели. Две проблемы, которые нужно решать: пропуски и некачественные названия столбцов. Для проверки рабочих гипотез особенно ценны столбцы *time*, *day* и *City*. Данные из столбца *genre* позволят узнать самые популярные жанры."
      ]
    },
    {
      "cell_type": "markdown",
      "metadata": {
        "deletable": false,
        "editable": false,
        "id": "ZYaC0bU-IZ0a",
        "tags": [
          "2c946931-9c91-4e15-baf8-43fb79bcb454"
        ]
      },
      "source": [
        "# Этап 2. Предобработка данных"
      ]
    },
    {
      "cell_type": "markdown",
      "metadata": {
        "deletable": false,
        "id": "Dl8grmTrPxZi"
      },
      "source": [
        "Исключим пропуски, переименуем столбцы, а также проверим данные на наличие дубликатов."
      ]
    },
    {
      "cell_type": "markdown",
      "metadata": {
        "deletable": false,
        "id": "6OIhlsG_IjI8"
      },
      "source": [
        "Получаем перечень названий столбцов. Также наблюдается проблема регистра букв в названиях."
      ]
    },
    {
      "cell_type": "code",
      "metadata": {
        "deletable": false,
        "id": "Tag65F_Uitsx",
        "outputId": "385bb640-e98c-4277-99e4-18678edfcb6e"
      },
      "source": [
        "df.columns # <перечень названий столбцов таблицы df>"
      ],
      "execution_count": null,
      "outputs": [
        {
          "data": {
            "text/plain": [
              "Index(['  userID', 'Track', 'artist', 'genre', '  City  ', 'time', 'Day'], dtype='object')"
            ]
          },
          "execution_count": 5,
          "metadata": {},
          "output_type": "execute_result"
        }
      ]
    },
    {
      "cell_type": "markdown",
      "metadata": {
        "deletable": false,
        "id": "x6iJC-cEhnRL"
      },
      "source": [
        "В названиях столбцов есть пробелы, которые могут затруднять доступ к данным."
      ]
    },
    {
      "cell_type": "markdown",
      "metadata": {
        "deletable": false,
        "editable": false,
        "id": "BK6m6-DZhlTs",
        "tags": [
          "c2b469cf-2148-4115-8806-0fbb00a9d55d"
        ]
      },
      "source": [
        "Переименуем столбцы для удобства дальнейшей работы. Проверим результат.\n",
        "\n"
      ]
    },
    {
      "cell_type": "code",
      "metadata": {
        "deletable": false,
        "id": "XintVfCniw2-"
      },
      "source": [
        "df.set_axis(['user_id','track_name','artist_name','genre_name','city','time','weekday'], axis = 'columns', inplace = True) # <переименование столбцов>"
      ],
      "execution_count": null,
      "outputs": []
    },
    {
      "cell_type": "code",
      "metadata": {
        "deletable": false,
        "id": "ozQL91G4izdp",
        "outputId": "070bb752-ddbb-4861-e5f2-8a59de46dd22"
      },
      "source": [
        "df.columns # <проверка результатов - перечень названий столбцов>"
      ],
      "execution_count": null,
      "outputs": [
        {
          "data": {
            "text/plain": [
              "Index(['user_id', 'track_name', 'artist_name', 'genre_name', 'city', 'time',\n",
              "       'weekday'],\n",
              "      dtype='object')"
            ]
          },
          "execution_count": 7,
          "metadata": {},
          "output_type": "execute_result"
        }
      ]
    },
    {
      "cell_type": "markdown",
      "metadata": {
        "deletable": false,
        "editable": false,
        "id": "oc2qS2UBIkQu",
        "tags": [
          "325fae3b-abce-4c7c-8c41-87ed8a26ff5d"
        ]
      },
      "source": [
        "Проверим данные на наличие пропусков вызовом набора методов для суммирования пропущенных значений."
      ]
    },
    {
      "cell_type": "code",
      "metadata": {
        "deletable": false,
        "id": "BZh9yLHhjy_R",
        "outputId": "55354c40-6c88-4c0c-8867-ac5ff542be78"
      },
      "source": [
        "df.isnull().sum() # <суммарное количество пропусков, выявленных методом isnull() в таблице df>"
      ],
      "execution_count": null,
      "outputs": [
        {
          "data": {
            "text/plain": [
              "user_id           0\n",
              "track_name     1231\n",
              "artist_name    7203\n",
              "genre_name     1198\n",
              "city              0\n",
              "time              0\n",
              "weekday           0\n",
              "dtype: int64"
            ]
          },
          "execution_count": 8,
          "metadata": {},
          "output_type": "execute_result"
        }
      ]
    },
    {
      "cell_type": "markdown",
      "metadata": {
        "deletable": false,
        "id": "OJXGaa02tSJJ"
      },
      "source": [
        "Пустые значения свидетельствуют, что для некоторых треков доступна не вся информация. Причины могут быть разные: скажем,  не назван конкретный исполнитель народной песни. Хуже, если проблемы с записью данных. Каждый отдельный случай необходимо разобрать и выявить причину."
      ]
    },
    {
      "cell_type": "markdown",
      "metadata": {
        "deletable": false,
        "id": "-fBDAWZUkAg-"
      },
      "source": [
        "Заменяем пропущенные значения в столбцах с названием трека и исполнителя на строку 'unknown'. После этой операции нужно убедиться, что таблица больше не содержит пропусков."
      ]
    },
    {
      "cell_type": "code",
      "metadata": {
        "deletable": false,
        "id": "EO8zFcJPlbvV"
      },
      "source": [
        "df['track_name'] = df['track_name'].fillna('unknown') # <замена пропущенных значений в столбце 'track_name' на строку 'unknown' специальным методом замены>\n"
      ],
      "execution_count": null,
      "outputs": []
    },
    {
      "cell_type": "code",
      "metadata": {
        "deletable": false,
        "id": "3hsNZcLST0UW"
      },
      "source": [
        "df['artist_name'] = df['artist_name'].fillna('unknown') # <замена пропущенных значений в столбце 'artist_name' на строку 'unknown' специальным методом замены>"
      ],
      "execution_count": null,
      "outputs": []
    },
    {
      "cell_type": "code",
      "metadata": {
        "deletable": false,
        "id": "Ua-Z8TAblgzC",
        "outputId": "b5b500b8-1197-4873-a629-b056352c0d03"
      },
      "source": [
        "df.isnull().sum()# <проверка: вычисление суммарного количества пропусков, выявленных в таблице df>"
      ],
      "execution_count": null,
      "outputs": [
        {
          "data": {
            "text/plain": [
              "user_id           0\n",
              "track_name        0\n",
              "artist_name       0\n",
              "genre_name     1198\n",
              "city              0\n",
              "time              0\n",
              "weekday           0\n",
              "dtype: int64"
            ]
          },
          "execution_count": 11,
          "metadata": {},
          "output_type": "execute_result"
        }
      ]
    },
    {
      "cell_type": "markdown",
      "metadata": {
        "deletable": false,
        "editable": false,
        "id": "-cjfT0w2ln9C",
        "tags": [
          "9cb28dd4-e24e-4490-aebd-b37ba9e492c5"
        ]
      },
      "source": [
        "Удаляем в столбце с жанрами пустые значения; убеждаемся, что их больше не осталось."
      ]
    },
    {
      "cell_type": "code",
      "metadata": {
        "deletable": false,
        "id": "TIpk7lwtnZkZ"
      },
      "source": [
        "# аргумент subset — названия столбцов, где нужно искать пропуски\n",
        "df.dropna(subset = ['genre_name'], inplace = True)  # <удаление пропущенных значений в столбце 'genre_name'>"
      ],
      "execution_count": null,
      "outputs": []
    },
    {
      "cell_type": "code",
      "metadata": {
        "deletable": false,
        "id": "-1CT-CCZnzTA",
        "outputId": "1483905b-c58c-4e7b-a360-a0936a6e1112"
      },
      "source": [
        "df.isnull().sum() # <проверка>"
      ],
      "execution_count": null,
      "outputs": [
        {
          "data": {
            "text/plain": [
              "user_id        0\n",
              "track_name     0\n",
              "artist_name    0\n",
              "genre_name     0\n",
              "city           0\n",
              "time           0\n",
              "weekday        0\n",
              "dtype: int64"
            ]
          },
          "execution_count": 13,
          "metadata": {},
          "output_type": "execute_result"
        }
      ]
    },
    {
      "cell_type": "markdown",
      "metadata": {
        "deletable": false,
        "editable": false,
        "id": "QsBXpJFzpxA9",
        "tags": [
          "ea46db29-6746-4c02-a47b-75283dde9025"
        ]
      },
      "source": [
        "Необходимо установить наличие дубликатов.  Если найдутся, удаляем, и проверяем, все ли удалились."
      ]
    },
    {
      "cell_type": "code",
      "metadata": {
        "deletable": false,
        "id": "VRVI_B0RqIgT",
        "outputId": "e3e61002-5499-4195-9518-ec60ffc1bd9e"
      },
      "source": [
        "df.duplicated().sum()# <получение суммарного количества дубликатов в таблице df>"
      ],
      "execution_count": null,
      "outputs": [
        {
          "data": {
            "text/plain": [
              "3755"
            ]
          },
          "execution_count": 14,
          "metadata": {},
          "output_type": "execute_result"
        }
      ]
    },
    {
      "cell_type": "code",
      "metadata": {
        "deletable": false,
        "id": "nSYF38OeqZn-"
      },
      "source": [
        "df = df.drop_duplicates().reset_index(drop = True) # <удаление всех дубликатов из таблицы df специальным методом>\n",
        "#Вместе с повторяющимися строками удаляет их индексы. Поэтому вызывается с методом reset_index()"
      ],
      "execution_count": null,
      "outputs": []
    },
    {
      "cell_type": "code",
      "metadata": {
        "deletable": false,
        "id": "O-RfjmkCqIgV",
        "outputId": "0c045ff9-4ebf-4fb8-efa7-35debafa8dd6"
      },
      "source": [
        "df.duplicated().sum() # <проверка на отсутствие>"
      ],
      "execution_count": null,
      "outputs": [
        {
          "data": {
            "text/plain": [
              "0"
            ]
          },
          "execution_count": 16,
          "metadata": {},
          "output_type": "execute_result"
        }
      ]
    },
    {
      "cell_type": "markdown",
      "metadata": {
        "deletable": false,
        "id": "e6cyWPTwsLKw"
      },
      "source": [
        "Дубликаты могли появиться вследствие сбоя в записи данных. Стоит обратить внимание и разобраться с причинами появления такого «информационного мусора»."
      ]
    },
    {
      "cell_type": "markdown",
      "metadata": {
        "deletable": false,
        "editable": false,
        "id": "QH-HgrApInjO",
        "tags": [
          "46fb87e8-2d9c-497d-9c6e-746eaa2631ab"
        ]
      },
      "source": [
        "Сохраняем список уникальных значений столбца с жанрами в переменной *genres_list*. \n",
        "\n",
        "Объявим функцию *find_genre()* для поиска неявных дубликатов в столбце с жанрами. Например, когда название одного и того же жанра написано разными словами.\n",
        "\n",
        "\n",
        "\n"
      ]
    },
    {
      "cell_type": "code",
      "metadata": {
        "deletable": false,
        "id": "FfaTfKAN-PCx",
        "outputId": "1a4e87ee-7c16-45c9-b670-eb6cf66dfe8c"
      },
      "source": [
        "genres_list = df['genre_name'].unique()# <сохранение в переменной genres_list списка уникальных значений, выявленных специальным методом в столбце 'genre_name'>\n",
        "genres_list"
      ],
      "execution_count": null,
      "outputs": [
        {
          "data": {
            "text/plain": [
              "array(['rock', 'pop', 'folk', 'dance', 'rusrap', 'ruspop', 'world',\n",
              "       'electronic', 'alternative', 'children', 'rnb', 'hip', 'jazz',\n",
              "       'postrock', 'latin', 'classical', 'metal', 'reggae', 'tatar',\n",
              "       'blues', 'instrumental', 'rusrock', 'dnb', 'türk', 'post',\n",
              "       'country', 'psychedelic', 'conjazz', 'indie', 'posthardcore',\n",
              "       'local', 'avantgarde', 'punk', 'videogame', 'techno', 'house',\n",
              "       'christmas', 'melodic', 'caucasian', 'reggaeton', 'soundtrack',\n",
              "       'singer', 'ska', 'shanson', 'ambient', 'film', 'western', 'rap',\n",
              "       'beats', \"hard'n'heavy\", 'progmetal', 'minimal', 'contemporary',\n",
              "       'new', 'soul', 'holiday', 'german', 'tropical', 'fairytail',\n",
              "       'spiritual', 'urban', 'gospel', 'nujazz', 'folkmetal', 'trance',\n",
              "       'miscellaneous', 'anime', 'hardcore', 'progressive', 'chanson',\n",
              "       'numetal', 'vocal', 'estrada', 'russian', 'classicmetal',\n",
              "       'dubstep', 'club', 'deep', 'southern', 'black', 'folkrock',\n",
              "       'fitness', 'french', 'disco', 'religious', 'hiphop', 'drum',\n",
              "       'extrememetal', 'türkçe', 'experimental', 'easy', 'metalcore',\n",
              "       'modern', 'argentinetango', 'old', 'breaks', 'eurofolk',\n",
              "       'stonerrock', 'industrial', 'funk', 'jpop', 'middle', 'variété',\n",
              "       'other', 'adult', 'christian', 'gothic', 'international', 'muslim',\n",
              "       'relax', 'schlager', 'caribbean', 'ukrrock', 'nu', 'breakbeat',\n",
              "       'comedy', 'chill', 'newage', 'specialty', 'uzbek', 'k-pop',\n",
              "       'balkan', 'chinese', 'meditative', 'dub', 'power', 'death',\n",
              "       'grime', 'arabesk', 'romance', 'flamenco', 'leftfield', 'european',\n",
              "       'tech', 'newwave', 'dancehall', 'mpb', 'piano', 'top', 'bigroom',\n",
              "       'opera', 'celtic', 'tradjazz', 'acoustic', 'epicmetal',\n",
              "       'historisch', 'downbeat', 'downtempo', 'africa', 'audiobook',\n",
              "       'jewish', 'sängerportrait', 'deutschrock', 'eastern', 'action',\n",
              "       'future', 'electropop', 'folklore', 'bollywood', 'marschmusik',\n",
              "       'rnr', 'karaoke', 'indian', 'rancheras', 'электроника',\n",
              "       'afrikaans', 'tango', 'rhythm', 'sound', 'deutschspr', 'trip',\n",
              "       'lovers', 'choral', 'dancepop', 'podcasts', 'retro', 'smooth',\n",
              "       'mexican', 'brazilian', 'ïîï', 'mood', 'surf', 'author', 'gangsta',\n",
              "       'triphop', 'inspirational', 'idm', 'ethnic', 'bluegrass',\n",
              "       'broadway', 'animated', 'americana', 'karadeniz', 'rockabilly',\n",
              "       'colombian', 'self', 'synthrock', 'sertanejo', 'japanese',\n",
              "       'canzone', 'swing', 'lounge', 'sport', 'korean', 'ragga',\n",
              "       'traditional', 'gitarre', 'frankreich', 'alternativepunk', 'emo',\n",
              "       'laiko', 'cantopop', 'glitch', 'documentary', 'rockalternative',\n",
              "       'thrash', 'hymn', 'oceania', 'rockother', 'popeurodance', 'dark',\n",
              "       'vi', 'grunge', 'hardstyle', 'samba', 'garage', 'soft', 'art',\n",
              "       'folktronica', 'entehno', 'mediterranean', 'chamber', 'cuban',\n",
              "       'taraftar', 'rockindie', 'gypsy', 'hardtechno', 'shoegazing',\n",
              "       'skarock', 'bossa', 'salsa', 'latino', 'worldbeat', 'malaysian',\n",
              "       'baile', 'ghazal', 'loungeelectronic', 'arabic', 'popelectronic',\n",
              "       'acid', 'kayokyoku', 'neoklassik', 'tribal', 'tanzorchester',\n",
              "       'native', 'independent', 'cantautori', 'handsup', 'poprussian',\n",
              "       'punjabi', 'synthpop', 'rave', 'französisch', 'quebecois',\n",
              "       'speech', 'soulful', 'teen', 'jam', 'ram', 'horror', 'scenic',\n",
              "       'orchestral', 'neue', 'roots', 'slow', 'jungle', 'indipop', 'axé',\n",
              "       'fado', 'showtunes', 'arena', 'irish', 'mandopop', 'forró',\n",
              "       'popdance', 'dirty', 'regional'], dtype=object)"
            ]
          },
          "execution_count": 16,
          "metadata": {},
          "output_type": "execute_result"
        }
      ]
    },
    {
      "cell_type": "code",
      "metadata": {
        "deletable": false,
        "id": "TA_k-VLi-S0R"
      },
      "source": [
        "# <создание функции find_genre()># функция принимает как параметр строку с названием искомого жанра\n",
        "# в теле объявляется переменная-счётчик, ей присваивается значение 0,\n",
        "# затем цикл for проходит по списку уникальных значений\n",
        "# если очередной элемент списка равен параметру функции, \n",
        "# то значение счётчика увеличивается на 1\n",
        "# по окончании работы цикла функция возвращает значение счётчика\n",
        "def find_genre(genre):\n",
        "    counter = 0\n",
        "    for index in range(len(genres_list)):\n",
        "        if genres_list[index] == genre:\n",
        "           counter += 1              \n",
        "    return (counter)        \n",
        "        "
      ],
      "execution_count": null,
      "outputs": []
    },
    {
      "cell_type": "markdown",
      "metadata": {
        "deletable": false,
        "editable": false,
        "id": "vb3CTOciIL27",
        "tags": [
          "b57e3325-29fc-4ade-83a3-91113c5dad32"
        ]
      },
      "source": [
        "Вызов функции *find_genre()* для поиска различных вариантов названия жанра хип-хоп в таблице.\n",
        "\n",
        "Правильное название — *hiphop*. Поищем другие варианты:\n",
        "\n",
        "* hip\n",
        "* hop\n",
        "* hip-hop\n"
      ]
    },
    {
      "cell_type": "code",
      "metadata": {
        "deletable": false,
        "id": "YrwqExZS-dyQ",
        "outputId": "d2e67020-7b15-4723-a79b-8f29c2e76c11"
      },
      "source": [
        "# <вызовом функции find_genre() проверяется наличие варианта 'hip'>\n",
        "find_genre('hip')"
      ],
      "execution_count": null,
      "outputs": [
        {
          "data": {
            "text/plain": [
              "1"
            ]
          },
          "execution_count": 18,
          "metadata": {},
          "output_type": "execute_result"
        }
      ]
    },
    {
      "cell_type": "code",
      "metadata": {
        "deletable": false,
        "id": "ZoL4EEcR-dyU",
        "outputId": "b6873eed-acfb-4f7f-ca7b-1cb20ea59047"
      },
      "source": [
        "# <проверяется наличие варианта 'hop'>\n",
        "find_genre('hop')"
      ],
      "execution_count": null,
      "outputs": [
        {
          "data": {
            "text/plain": [
              "0"
            ]
          },
          "execution_count": 19,
          "metadata": {},
          "output_type": "execute_result"
        }
      ]
    },
    {
      "cell_type": "code",
      "metadata": {
        "deletable": false,
        "id": "MFowmiug-qZD",
        "outputId": "992ab170-78da-41b6-f123-8914469a1864"
      },
      "source": [
        "# <проверяется наличие варианта 'hip-hop'>\n",
        "find_genre('hip-hop')"
      ],
      "execution_count": null,
      "outputs": [
        {
          "data": {
            "text/plain": [
              "0"
            ]
          },
          "execution_count": 20,
          "metadata": {},
          "output_type": "execute_result"
        }
      ]
    },
    {
      "cell_type": "markdown",
      "metadata": {
        "deletable": false,
        "editable": false,
        "id": "a7BQY6ORLMSG",
        "tags": [
          "11f77aa1-5478-453d-b31e-f20041047bb7"
        ]
      },
      "source": [
        "Объявим функцию *find_hip_hop()*, которая заменяет  неправильное название этого жанра в столбце *'genre_name'* на *'hiphop'* и проверяет успешность выполнения замены.\n",
        "\n",
        "Так исправляем все варианты написания, которые выявила проверка."
      ]
    },
    {
      "cell_type": "code",
      "metadata": {
        "deletable": false,
        "id": "31xlzL_c_FgB"
      },
      "source": [
        "# <создание функции find_hip_hop()>\n",
        "# функция принимает как параметры таблицу df и неверное название\n",
        "# к столбцу 'genre_name' применяется специальный метод, \n",
        "# который заменяет второй параметр на строку 'hiphop'\n",
        "# результат работы равен подсчитанному методом count() числу значений столбца, \n",
        "# которые равны второму параметру\n",
        "# функция возвращает результат\n",
        "def find_hip_hop(df, wrong):\n",
        "    df['genre_name'] = df['genre_name'].replace(wrong, 'hiphop')\n",
        "    return (df[df['genre_name'] == wrong]['genre_name'].count())"
      ],
      "execution_count": null,
      "outputs": []
    },
    {
      "cell_type": "code",
      "metadata": {
        "deletable": false,
        "id": "ZFXMV2qW_FgE",
        "scrolled": true,
        "outputId": "d087754a-2e4c-4155-8a47-e63ebb79e665"
      },
      "source": [
        "# <замена одного неверного варианта на hiphop вызовом функции find_hip_hop()>\n",
        "find_hip_hop(df,'hip')\n"
      ],
      "execution_count": null,
      "outputs": [
        {
          "data": {
            "text/plain": [
              "0"
            ]
          },
          "execution_count": 22,
          "metadata": {},
          "output_type": "execute_result"
        }
      ]
    },
    {
      "cell_type": "markdown",
      "metadata": {
        "deletable": false,
        "editable": false,
        "id": "i90BILA9JQpE",
        "tags": [
          "30535c8e-1643-4088-925b-2a32180e0333"
        ]
      },
      "source": [
        "Получаем общую информацию о данных. Убеждаемся, что чистка выполнена успешно."
      ]
    },
    {
      "cell_type": "code",
      "metadata": {
        "deletable": false,
        "id": "-yyvdzHA_uJm",
        "scrolled": true,
        "outputId": "f857ab77-b259-4d41-ca1d-21531bb06309"
      },
      "source": [
        "# <получение общей информации о данных таблицы df>\n",
        "df.info()"
      ],
      "execution_count": null,
      "outputs": [
        {
          "name": "stdout",
          "output_type": "stream",
          "text": [
            "<class 'pandas.core.frame.DataFrame'>\n",
            "RangeIndex: 60126 entries, 0 to 60125\n",
            "Data columns (total 7 columns):\n",
            "user_id        60126 non-null object\n",
            "track_name     60126 non-null object\n",
            "artist_name    60126 non-null object\n",
            "genre_name     60126 non-null object\n",
            "city           60126 non-null object\n",
            "time           60126 non-null object\n",
            "weekday        60126 non-null object\n",
            "dtypes: object(7)\n",
            "memory usage: 3.2+ MB\n"
          ]
        }
      ]
    },
    {
      "cell_type": "markdown",
      "metadata": {
        "deletable": false,
        "id": "AReHO17cMRPM"
      },
      "source": [
        "**Вывод**"
      ]
    },
    {
      "cell_type": "markdown",
      "metadata": {
        "deletable": false,
        "id": "yscfstUqMS4c"
      },
      "source": [
        "На этапе предобработки в данных обнаружились не только пропуски и проблемы с названиями столбцов, но и всяческие виды дубликатов. Их удаление позволит провести анализ точнее. Поскольку сведения о жанрах важно сохранить для анализа, не просто удаляем все пропущенные значения, но заполним пропущенные имена исполнителей и названия треков. Имена столбцов теперь корректны и удобны для дальнейшей работы."
      ]
    },
    {
      "cell_type": "markdown",
      "metadata": {
        "deletable": false,
        "editable": false,
        "id": "MF4nnd1YJUrI",
        "tags": [
          "ac8df732-1797-479a-9c4c-a03745931a9d"
        ]
      },
      "source": [
        "# Действительно ли музыку в разных городах слушают по-разному?"
      ]
    },
    {
      "cell_type": "markdown",
      "metadata": {
        "deletable": false,
        "id": "AYSL1OvyM2pL"
      },
      "source": [
        "Была выдвинута гипотеза, что в Москве и Санкт-Петербурге пользователи слушают музыку по-разному. Проверяем это предположение по данным о трёх днях недели — понедельнике, среде и пятнице.\n",
        "\n",
        "Для каждого города устанавливаем количество прослушанных  в эти дни композиций с известным жанром, и сравниваем результаты."
      ]
    },
    {
      "cell_type": "markdown",
      "metadata": {
        "deletable": false,
        "id": "OM5Eeh7FNWC-"
      },
      "source": [
        "Группируем данные по городу и вызовом метода *count()* подсчитываем композиции, для которых известен жанр."
      ]
    },
    {
      "cell_type": "code",
      "metadata": {
        "deletable": false,
        "id": "AtH_pP1i_0m1",
        "outputId": "f0526a9e-db1c-416a-95c5-497a80a8d403"
      },
      "source": [
        "# <группировка данных таблицы df по столбцу 'city' и подсчёт количества значений столбца 'genre_name'>\n",
        "df.groupby('city').agg({'genre_name': 'count'})"
      ],
      "execution_count": null,
      "outputs": [
        {
          "data": {
            "text/html": [
              "<div>\n",
              "<style scoped>\n",
              "    .dataframe tbody tr th:only-of-type {\n",
              "        vertical-align: middle;\n",
              "    }\n",
              "\n",
              "    .dataframe tbody tr th {\n",
              "        vertical-align: top;\n",
              "    }\n",
              "\n",
              "    .dataframe thead th {\n",
              "        text-align: right;\n",
              "    }\n",
              "</style>\n",
              "<table border=\"1\" class=\"dataframe\">\n",
              "  <thead>\n",
              "    <tr style=\"text-align: right;\">\n",
              "      <th></th>\n",
              "      <th>genre_name</th>\n",
              "    </tr>\n",
              "    <tr>\n",
              "      <th>city</th>\n",
              "      <th></th>\n",
              "    </tr>\n",
              "  </thead>\n",
              "  <tbody>\n",
              "    <tr>\n",
              "      <td>Moscow</td>\n",
              "      <td>41892</td>\n",
              "    </tr>\n",
              "    <tr>\n",
              "      <td>Saint-Petersburg</td>\n",
              "      <td>18234</td>\n",
              "    </tr>\n",
              "  </tbody>\n",
              "</table>\n",
              "</div>"
            ],
            "text/plain": [
              "                  genre_name\n",
              "city                        \n",
              "Moscow                 41892\n",
              "Saint-Petersburg       18234"
            ]
          },
          "execution_count": 24,
          "metadata": {},
          "output_type": "execute_result"
        }
      ]
    },
    {
      "cell_type": "markdown",
      "metadata": {
        "deletable": false,
        "id": "XBR226DMpIDf"
      },
      "source": [
        "В Москве прослушиваний больше, чем в Питере, но это не значит, что Москва более активна. У Яндекс.Музыки в целом больше пользователей в Москве, поэтому величины сопоставимы."
      ]
    },
    {
      "cell_type": "markdown",
      "metadata": {
        "deletable": false,
        "editable": false,
        "id": "P7EcNQuyNbNB",
        "tags": [
          "133ddd49-3b63-45b1-b50c-9e6ab5fc4175"
        ]
      },
      "source": [
        "Сгруппируем данные по дню недели и подсчитаем прослушанные в понедельник, среду и пятницу композиции, для которых известен жанр."
      ]
    },
    {
      "cell_type": "code",
      "metadata": {
        "deletable": false,
        "id": "A8E_Tb2b_3un",
        "outputId": "53bae40b-f221-48b3-f88a-8e1586fa4191"
      },
      "source": [
        "# <группировка данных по столбцу 'weekday' и подсчёт количества значений столбца 'genre_name'>\n",
        "df.groupby('weekday').agg({'genre_name': 'count'})\n"
      ],
      "execution_count": null,
      "outputs": [
        {
          "data": {
            "text/html": [
              "<div>\n",
              "<style scoped>\n",
              "    .dataframe tbody tr th:only-of-type {\n",
              "        vertical-align: middle;\n",
              "    }\n",
              "\n",
              "    .dataframe tbody tr th {\n",
              "        vertical-align: top;\n",
              "    }\n",
              "\n",
              "    .dataframe thead th {\n",
              "        text-align: right;\n",
              "    }\n",
              "</style>\n",
              "<table border=\"1\" class=\"dataframe\">\n",
              "  <thead>\n",
              "    <tr style=\"text-align: right;\">\n",
              "      <th></th>\n",
              "      <th>genre_name</th>\n",
              "    </tr>\n",
              "    <tr>\n",
              "      <th>weekday</th>\n",
              "      <th></th>\n",
              "    </tr>\n",
              "  </thead>\n",
              "  <tbody>\n",
              "    <tr>\n",
              "      <td>Friday</td>\n",
              "      <td>21482</td>\n",
              "    </tr>\n",
              "    <tr>\n",
              "      <td>Monday</td>\n",
              "      <td>20866</td>\n",
              "    </tr>\n",
              "    <tr>\n",
              "      <td>Wednesday</td>\n",
              "      <td>17778</td>\n",
              "    </tr>\n",
              "  </tbody>\n",
              "</table>\n",
              "</div>"
            ],
            "text/plain": [
              "           genre_name\n",
              "weekday              \n",
              "Friday          21482\n",
              "Monday          20866\n",
              "Wednesday       17778"
            ]
          },
          "execution_count": 25,
          "metadata": {},
          "output_type": "execute_result"
        }
      ]
    },
    {
      "cell_type": "markdown",
      "metadata": {
        "deletable": false,
        "id": "Zhh6hehCpq_U"
      },
      "source": [
        "Понедельник и пятница — время для музыки; по средам пользователи немного больше вовлечены в работу."
      ]
    },
    {
      "cell_type": "markdown",
      "metadata": {
        "deletable": false,
        "editable": false,
        "id": "bYab2U5BNdmZ",
        "tags": [
          "bae0a168-5e2b-40f9-9701-bfb32d016517"
        ]
      },
      "source": [
        "Создаём функцию *number_tracks()*, которая принимает как параметры таблицу, день недели и название города, а возвращает количество прослушанных композиций, для которых известен жанр. Проверяем количество прослушанных композиций для каждого города и понедельника, затем среды и пятницы."
      ]
    },
    {
      "cell_type": "code",
      "metadata": {
        "deletable": false,
        "id": "4SqpGSi5_7hA"
      },
      "source": [
        "# <создание функции number_tracks()>\n",
        "# объявляется функция с тремя параметрами: df, day, city\n",
        "def number_tracks(df, day, city):\n",
        "    track_list = df[(df['weekday'] == day) & (df['city'] == city)]\n",
        "    track_list_count = track_list['genre_name'].count()\n",
        "    return (track_list_count)\n",
        "# в переменной track_list сохраняются те строки таблицы df, для которых \n",
        "# значение в столбце 'weekday' равно параметру day\n",
        "# и одновременно значение в столбце 'city' равно параметру city\n",
        "# в переменной track_list_count сохраняется число значений столбца 'genre_name',\n",
        "# рассчитанное методом count() для таблицы track_list\n",
        "# функция возвращает значение track_list_count"
      ],
      "execution_count": null,
      "outputs": []
    },
    {
      "cell_type": "code",
      "metadata": {
        "deletable": false,
        "id": "w4JA_lM1spDk",
        "outputId": "b6b5c5da-7675-4609-e0a9-a45463e30c8b"
      },
      "source": [
        "# <список композиций для Москвы в понедельник>\n",
        "number_tracks(df, 'Monday', 'Moscow')"
      ],
      "execution_count": null,
      "outputs": [
        {
          "data": {
            "text/plain": [
              "15347"
            ]
          },
          "execution_count": 28,
          "metadata": {},
          "output_type": "execute_result"
        }
      ]
    },
    {
      "cell_type": "code",
      "metadata": {
        "deletable": false,
        "id": "vXYAxT3mspDk",
        "outputId": "b1baa8c1-2275-454a-94eb-4458a2aee9a5"
      },
      "source": [
        "# <список композиций для Санкт-Петербурга в понедельник>\n",
        "number_tracks(df, 'Monday', 'Saint-Petersburg')"
      ],
      "execution_count": null,
      "outputs": [
        {
          "data": {
            "text/plain": [
              "5519"
            ]
          },
          "execution_count": 29,
          "metadata": {},
          "output_type": "execute_result"
        }
      ]
    },
    {
      "cell_type": "code",
      "metadata": {
        "deletable": false,
        "id": "hDmt8a0BspDl",
        "outputId": "51bc2ae6-faea-4e48-a1d2-70d5ee89ea03"
      },
      "source": [
        "# <список композиций для Москвы в среду>\n",
        "number_tracks(df, 'Wednesday', 'Moscow')"
      ],
      "execution_count": null,
      "outputs": [
        {
          "data": {
            "text/plain": [
              "10865"
            ]
          },
          "execution_count": 30,
          "metadata": {},
          "output_type": "execute_result"
        }
      ]
    },
    {
      "cell_type": "code",
      "metadata": {
        "deletable": false,
        "id": "EJWrFeIespDl",
        "outputId": "a0ec66b7-faad-4c69-8923-440fed908847"
      },
      "source": [
        "# <список композиций для Санкт-Петербурга в среду>\n",
        "number_tracks(df, 'Wednesday', 'Saint-Petersburg')"
      ],
      "execution_count": null,
      "outputs": [
        {
          "data": {
            "text/plain": [
              "6913"
            ]
          },
          "execution_count": 31,
          "metadata": {},
          "output_type": "execute_result"
        }
      ]
    },
    {
      "cell_type": "code",
      "metadata": {
        "deletable": false,
        "id": "TzKjUV4dspDl",
        "outputId": "f0758c50-f2f2-4139-fbea-2d7fc6f95175"
      },
      "source": [
        "# <список композиций для Москвы в пятницу>\n",
        "number_tracks(df, 'Friday', 'Moscow')"
      ],
      "execution_count": null,
      "outputs": [
        {
          "data": {
            "text/plain": [
              "15680"
            ]
          },
          "execution_count": 32,
          "metadata": {},
          "output_type": "execute_result"
        }
      ]
    },
    {
      "cell_type": "code",
      "metadata": {
        "deletable": false,
        "id": "pgPhqhSXspDl",
        "outputId": "9c31c6d2-182a-497d-dd64-29e27325ab19"
      },
      "source": [
        "# <список композиций для Санкт-Петербурга в пятницу>\n",
        "number_tracks(df, 'Friday', 'Saint-Petersburg')"
      ],
      "execution_count": null,
      "outputs": [
        {
          "data": {
            "text/plain": [
              "5802"
            ]
          },
          "execution_count": 33,
          "metadata": {},
          "output_type": "execute_result"
        }
      ]
    },
    {
      "cell_type": "markdown",
      "metadata": {
        "deletable": false,
        "editable": false,
        "id": "tCB9zwzzqZ8g",
        "tags": [
          "d73e12bf-3635-484b-8fb6-c7ccc2101671"
        ]
      },
      "source": [
        "Сведём полученную информацию в одну таблицу, где ['city', 'monday', 'wednesday', 'friday'] названия столбцов.\n"
      ]
    },
    {
      "cell_type": "code",
      "metadata": {
        "deletable": false,
        "id": "AGKEVpF3spDm",
        "outputId": "95a4432f-e52e-4448-cfc8-5d752956e80a"
      },
      "source": [
        "# <таблица с полученными данными>\n",
        "table = pd.DataFrame(data = [['Moscow', 15347, 10865, 15680],\n",
        "       ['Saint-Petersburg', 5519, 6913, 5802]] , columns = ['city', 'monday', 'wednesday', 'friday'])\n",
        "table"
      ],
      "execution_count": null,
      "outputs": [
        {
          "data": {
            "text/html": [
              "<div>\n",
              "<style scoped>\n",
              "    .dataframe tbody tr th:only-of-type {\n",
              "        vertical-align: middle;\n",
              "    }\n",
              "\n",
              "    .dataframe tbody tr th {\n",
              "        vertical-align: top;\n",
              "    }\n",
              "\n",
              "    .dataframe thead th {\n",
              "        text-align: right;\n",
              "    }\n",
              "</style>\n",
              "<table border=\"1\" class=\"dataframe\">\n",
              "  <thead>\n",
              "    <tr style=\"text-align: right;\">\n",
              "      <th></th>\n",
              "      <th>city</th>\n",
              "      <th>monday</th>\n",
              "      <th>wednesday</th>\n",
              "      <th>friday</th>\n",
              "    </tr>\n",
              "  </thead>\n",
              "  <tbody>\n",
              "    <tr>\n",
              "      <td>0</td>\n",
              "      <td>Moscow</td>\n",
              "      <td>15347</td>\n",
              "      <td>10865</td>\n",
              "      <td>15680</td>\n",
              "    </tr>\n",
              "    <tr>\n",
              "      <td>1</td>\n",
              "      <td>Saint-Petersburg</td>\n",
              "      <td>5519</td>\n",
              "      <td>6913</td>\n",
              "      <td>5802</td>\n",
              "    </tr>\n",
              "  </tbody>\n",
              "</table>\n",
              "</div>"
            ],
            "text/plain": [
              "               city  monday  wednesday  friday\n",
              "0            Moscow   15347      10865   15680\n",
              "1  Saint-Petersburg    5519       6913    5802"
            ]
          },
          "execution_count": 36,
          "metadata": {},
          "output_type": "execute_result"
        }
      ]
    },
    {
      "cell_type": "markdown",
      "metadata": {
        "deletable": false,
        "id": "LKCYeMXgqPxD"
      },
      "source": [
        "**Вывод**"
      ]
    },
    {
      "cell_type": "markdown",
      "metadata": {
        "deletable": false,
        "id": "RJpg6I8jqQ0x"
      },
      "source": [
        "Результаты показывают, что относительно среды музыку в Петербурге и Москве слушают «зеркально»: в Москве пики приходятся на понедельник и пятницу, а в среду время прослушивания снижается. Тогда как в Санкт-Петербурге среда — день самого большого интереса к музыке, а в понедельник и пятницу он меньше, причём почти одинаково меньше."
      ]
    },
    {
      "cell_type": "markdown",
      "metadata": {
        "deletable": false,
        "editable": false,
        "id": "tLdpUGyewzGf",
        "tags": [
          "1eb8124a-f066-4c43-b1f4-bc672c5efd57"
        ]
      },
      "source": [
        "# Утро понедельника и вечер пятницы — разная музыка или одна и та же?"
      ]
    },
    {
      "cell_type": "markdown",
      "metadata": {
        "deletable": false,
        "id": "SaQlxcVntL3x"
      },
      "source": [
        "Ищем ответ на вопрос, какие жанры преобладают в разных городах в понедельник утром и в пятницу вечером. Есть предположение, что в понедельник утром пользователи слушают больше бодрящей музыки (например, жанра поп), а вечером пятницы — больше танцевальных (например, электронику)."
      ]
    },
    {
      "cell_type": "markdown",
      "metadata": {
        "deletable": false,
        "id": "lYGAneOaPBhS"
      },
      "source": [
        "Получим таблицы данных по Москве *moscow_general* и по Санкт-Петербургу *spb_general*."
      ]
    },
    {
      "cell_type": "code",
      "metadata": {
        "deletable": false,
        "id": "Pyz1i56nA5IS"
      },
      "source": [
        "# получение таблицы moscow_general из тех строк таблицы df, \n",
        "# для которых значение в столбце 'city' равно 'Moscow'\n",
        "moscow_general = df[df['city']== 'Moscow']"
      ],
      "execution_count": null,
      "outputs": []
    },
    {
      "cell_type": "code",
      "metadata": {
        "deletable": false,
        "id": "w3NNN-2hA-al"
      },
      "source": [
        "# <получение таблицы spb_general>\n",
        "spb_general = df[df['city'] == 'Saint-Petersburg']"
      ],
      "execution_count": null,
      "outputs": []
    },
    {
      "cell_type": "markdown",
      "metadata": {
        "deletable": false,
        "editable": false,
        "id": "duDdH_WiPLky",
        "tags": [
          "7f7cae13-ec1c-45c4-9204-0a4354fe1766"
        ]
      },
      "source": [
        "Создаём функцию *genre_weekday()*, которая возвращает список жанров по запрошенному дню недели и времени суток с такого-то часа по такой-то."
      ]
    },
    {
      "cell_type": "code",
      "metadata": {
        "deletable": false,
        "id": "JhUdQynHBEYw"
      },
      "source": [
        "# объявление функции genre_weekday() с параметрами df, day, time1, time2\n",
        "def genre_weekday(df, day, time1, time2):\n",
        "    genre_list = df[(df['weekday'] == day) & (df['time'] > time1) & (df['time'] < time2)]\n",
        "    genre_list_sorted = genre_list.groupby('genre_name').agg({'genre_name': 'count'})\n",
        "    return (genre_list_sorted.head(10))\n",
        "# в переменной genre_list сохраняются те строки df, для которых одновременно:\n",
        "# 1) значение в столбце 'weekday' равно параметру day,\n",
        "# 2) значение в столбце 'time' больше time1 и\n",
        "# 3) меньше time2.\n",
        "# в переменной genre_list_sorted сохраняются в порядке убывания  \n",
        "# первые 10 значений Series, полученной подсчётом числа значений 'genre_name'\n",
        "# сгруппированной по столбцу 'genre_name' таблицы genre_list\n",
        "# функция возвращает значение genre_list_sorted"
      ],
      "execution_count": null,
      "outputs": []
    },
    {
      "cell_type": "markdown",
      "metadata": {
        "deletable": false,
        "editable": false,
        "id": "bxGC8kXkP7B-",
        "tags": [
          "63e2c3f3-fa64-4376-8221-e8b753264535"
        ]
      },
      "source": [
        "Cравниваем полученные результаты по таблице для Москвы и Санкт-Петербурга в понедельник утром (с 7 до 11) и в пятницу вечером (с 17 до 23)."
      ]
    },
    {
      "cell_type": "code",
      "metadata": {
        "deletable": false,
        "id": "kbgeq-55BLEI",
        "outputId": "51bebfe2-cb1e-4744-f14b-c003ae8e7369"
      },
      "source": [
        "# <вызов функции для утра понедельника в Москве (вместо df таблица moscow_general)>\n",
        "genre_weekday(moscow_general, 'Monday', '07:00:00', '11:00:00')"
      ],
      "execution_count": null,
      "outputs": [
        {
          "data": {
            "text/html": [
              "<div>\n",
              "<style scoped>\n",
              "    .dataframe tbody tr th:only-of-type {\n",
              "        vertical-align: middle;\n",
              "    }\n",
              "\n",
              "    .dataframe tbody tr th {\n",
              "        vertical-align: top;\n",
              "    }\n",
              "\n",
              "    .dataframe thead th {\n",
              "        text-align: right;\n",
              "    }\n",
              "</style>\n",
              "<table border=\"1\" class=\"dataframe\">\n",
              "  <thead>\n",
              "    <tr style=\"text-align: right;\">\n",
              "      <th></th>\n",
              "      <th>genre_name</th>\n",
              "    </tr>\n",
              "    <tr>\n",
              "      <th>genre_name</th>\n",
              "      <th></th>\n",
              "    </tr>\n",
              "  </thead>\n",
              "  <tbody>\n",
              "    <tr>\n",
              "      <td>adult</td>\n",
              "      <td>1</td>\n",
              "    </tr>\n",
              "    <tr>\n",
              "      <td>africa</td>\n",
              "      <td>2</td>\n",
              "    </tr>\n",
              "    <tr>\n",
              "      <td>alternative</td>\n",
              "      <td>164</td>\n",
              "    </tr>\n",
              "    <tr>\n",
              "      <td>ambient</td>\n",
              "      <td>22</td>\n",
              "    </tr>\n",
              "    <tr>\n",
              "      <td>americana</td>\n",
              "      <td>1</td>\n",
              "    </tr>\n",
              "    <tr>\n",
              "      <td>anime</td>\n",
              "      <td>7</td>\n",
              "    </tr>\n",
              "    <tr>\n",
              "      <td>arabesk</td>\n",
              "      <td>1</td>\n",
              "    </tr>\n",
              "    <tr>\n",
              "      <td>audiobook</td>\n",
              "      <td>1</td>\n",
              "    </tr>\n",
              "    <tr>\n",
              "      <td>avantgarde</td>\n",
              "      <td>4</td>\n",
              "    </tr>\n",
              "    <tr>\n",
              "      <td>balkan</td>\n",
              "      <td>1</td>\n",
              "    </tr>\n",
              "  </tbody>\n",
              "</table>\n",
              "</div>"
            ],
            "text/plain": [
              "             genre_name\n",
              "genre_name             \n",
              "adult                 1\n",
              "africa                2\n",
              "alternative         164\n",
              "ambient              22\n",
              "americana             1\n",
              "anime                 7\n",
              "arabesk               1\n",
              "audiobook             1\n",
              "avantgarde            4\n",
              "balkan                1"
            ]
          },
          "execution_count": 45,
          "metadata": {},
          "output_type": "execute_result"
        }
      ]
    },
    {
      "cell_type": "code",
      "metadata": {
        "deletable": false,
        "id": "XHwa8N2EBRXO",
        "outputId": "eeae457b-bf5f-4130-ca55-689a00b3fb88"
      },
      "source": [
        "# <вызов функции для утра понедельника в Петербурге (вместо df таблица spb_general)>\n",
        "genre_weekday(spb_general, 'Monday', '07:00:00', '11:00:00')"
      ],
      "execution_count": null,
      "outputs": [
        {
          "data": {
            "text/html": [
              "<div>\n",
              "<style scoped>\n",
              "    .dataframe tbody tr th:only-of-type {\n",
              "        vertical-align: middle;\n",
              "    }\n",
              "\n",
              "    .dataframe tbody tr th {\n",
              "        vertical-align: top;\n",
              "    }\n",
              "\n",
              "    .dataframe thead th {\n",
              "        text-align: right;\n",
              "    }\n",
              "</style>\n",
              "<table border=\"1\" class=\"dataframe\">\n",
              "  <thead>\n",
              "    <tr style=\"text-align: right;\">\n",
              "      <th></th>\n",
              "      <th>genre_name</th>\n",
              "    </tr>\n",
              "    <tr>\n",
              "      <th>genre_name</th>\n",
              "      <th></th>\n",
              "    </tr>\n",
              "  </thead>\n",
              "  <tbody>\n",
              "    <tr>\n",
              "      <td>adult</td>\n",
              "      <td>1</td>\n",
              "    </tr>\n",
              "    <tr>\n",
              "      <td>alternative</td>\n",
              "      <td>58</td>\n",
              "    </tr>\n",
              "    <tr>\n",
              "      <td>ambient</td>\n",
              "      <td>5</td>\n",
              "    </tr>\n",
              "    <tr>\n",
              "      <td>balkan</td>\n",
              "      <td>1</td>\n",
              "    </tr>\n",
              "    <tr>\n",
              "      <td>beats</td>\n",
              "      <td>1</td>\n",
              "    </tr>\n",
              "    <tr>\n",
              "      <td>blues</td>\n",
              "      <td>11</td>\n",
              "    </tr>\n",
              "    <tr>\n",
              "      <td>brazilian</td>\n",
              "      <td>1</td>\n",
              "    </tr>\n",
              "    <tr>\n",
              "      <td>breakbeat</td>\n",
              "      <td>1</td>\n",
              "    </tr>\n",
              "    <tr>\n",
              "      <td>caucasian</td>\n",
              "      <td>2</td>\n",
              "    </tr>\n",
              "    <tr>\n",
              "      <td>chamber</td>\n",
              "      <td>1</td>\n",
              "    </tr>\n",
              "  </tbody>\n",
              "</table>\n",
              "</div>"
            ],
            "text/plain": [
              "             genre_name\n",
              "genre_name             \n",
              "adult                 1\n",
              "alternative          58\n",
              "ambient               5\n",
              "balkan                1\n",
              "beats                 1\n",
              "blues                11\n",
              "brazilian             1\n",
              "breakbeat             1\n",
              "caucasian             2\n",
              "chamber               1"
            ]
          },
          "execution_count": 46,
          "metadata": {},
          "output_type": "execute_result"
        }
      ]
    },
    {
      "cell_type": "code",
      "metadata": {
        "deletable": false,
        "id": "YvdSbg2jBUeq",
        "outputId": "c457b4ca-4b74-4b66-f15e-8ceb66c79514"
      },
      "source": [
        "# <вызов функции для вечера пятницы в Москве>\n",
        "genre_weekday(moscow_general, 'Friday', '17:00:00', '23:00:00')"
      ],
      "execution_count": null,
      "outputs": [
        {
          "data": {
            "text/html": [
              "<div>\n",
              "<style scoped>\n",
              "    .dataframe tbody tr th:only-of-type {\n",
              "        vertical-align: middle;\n",
              "    }\n",
              "\n",
              "    .dataframe tbody tr th {\n",
              "        vertical-align: top;\n",
              "    }\n",
              "\n",
              "    .dataframe thead th {\n",
              "        text-align: right;\n",
              "    }\n",
              "</style>\n",
              "<table border=\"1\" class=\"dataframe\">\n",
              "  <thead>\n",
              "    <tr style=\"text-align: right;\">\n",
              "      <th></th>\n",
              "      <th>genre_name</th>\n",
              "    </tr>\n",
              "    <tr>\n",
              "      <th>genre_name</th>\n",
              "      <th></th>\n",
              "    </tr>\n",
              "  </thead>\n",
              "  <tbody>\n",
              "    <tr>\n",
              "      <td>adult</td>\n",
              "      <td>1</td>\n",
              "    </tr>\n",
              "    <tr>\n",
              "      <td>africa</td>\n",
              "      <td>1</td>\n",
              "    </tr>\n",
              "    <tr>\n",
              "      <td>alternative</td>\n",
              "      <td>163</td>\n",
              "    </tr>\n",
              "    <tr>\n",
              "      <td>ambient</td>\n",
              "      <td>18</td>\n",
              "    </tr>\n",
              "    <tr>\n",
              "      <td>americana</td>\n",
              "      <td>2</td>\n",
              "    </tr>\n",
              "    <tr>\n",
              "      <td>anime</td>\n",
              "      <td>7</td>\n",
              "    </tr>\n",
              "    <tr>\n",
              "      <td>arabesk</td>\n",
              "      <td>2</td>\n",
              "    </tr>\n",
              "    <tr>\n",
              "      <td>arena</td>\n",
              "      <td>1</td>\n",
              "    </tr>\n",
              "    <tr>\n",
              "      <td>argentinetango</td>\n",
              "      <td>3</td>\n",
              "    </tr>\n",
              "    <tr>\n",
              "      <td>art</td>\n",
              "      <td>1</td>\n",
              "    </tr>\n",
              "  </tbody>\n",
              "</table>\n",
              "</div>"
            ],
            "text/plain": [
              "                genre_name\n",
              "genre_name                \n",
              "adult                    1\n",
              "africa                   1\n",
              "alternative            163\n",
              "ambient                 18\n",
              "americana                2\n",
              "anime                    7\n",
              "arabesk                  2\n",
              "arena                    1\n",
              "argentinetango           3\n",
              "art                      1"
            ]
          },
          "execution_count": 47,
          "metadata": {},
          "output_type": "execute_result"
        }
      ]
    },
    {
      "cell_type": "code",
      "metadata": {
        "deletable": false,
        "id": "Ew3ig4fPBUeu",
        "outputId": "b36a7347-42a1-43cc-a79f-b2c9119769e2"
      },
      "source": [
        "# <вызов функции для вечера пятницы в Питере>\n",
        "genre_weekday(spb_general, 'Friday', '17:00:00', '23:00:00')"
      ],
      "execution_count": null,
      "outputs": [
        {
          "data": {
            "text/html": [
              "<div>\n",
              "<style scoped>\n",
              "    .dataframe tbody tr th:only-of-type {\n",
              "        vertical-align: middle;\n",
              "    }\n",
              "\n",
              "    .dataframe tbody tr th {\n",
              "        vertical-align: top;\n",
              "    }\n",
              "\n",
              "    .dataframe thead th {\n",
              "        text-align: right;\n",
              "    }\n",
              "</style>\n",
              "<table border=\"1\" class=\"dataframe\">\n",
              "  <thead>\n",
              "    <tr style=\"text-align: right;\">\n",
              "      <th></th>\n",
              "      <th>genre_name</th>\n",
              "    </tr>\n",
              "    <tr>\n",
              "      <th>genre_name</th>\n",
              "      <th></th>\n",
              "    </tr>\n",
              "  </thead>\n",
              "  <tbody>\n",
              "    <tr>\n",
              "      <td>acoustic</td>\n",
              "      <td>1</td>\n",
              "    </tr>\n",
              "    <tr>\n",
              "      <td>adult</td>\n",
              "      <td>1</td>\n",
              "    </tr>\n",
              "    <tr>\n",
              "      <td>alternative</td>\n",
              "      <td>63</td>\n",
              "    </tr>\n",
              "    <tr>\n",
              "      <td>ambient</td>\n",
              "      <td>7</td>\n",
              "    </tr>\n",
              "    <tr>\n",
              "      <td>americana</td>\n",
              "      <td>1</td>\n",
              "    </tr>\n",
              "    <tr>\n",
              "      <td>anime</td>\n",
              "      <td>3</td>\n",
              "    </tr>\n",
              "    <tr>\n",
              "      <td>arabesk</td>\n",
              "      <td>2</td>\n",
              "    </tr>\n",
              "    <tr>\n",
              "      <td>argentinetango</td>\n",
              "      <td>2</td>\n",
              "    </tr>\n",
              "    <tr>\n",
              "      <td>avantgarde</td>\n",
              "      <td>2</td>\n",
              "    </tr>\n",
              "    <tr>\n",
              "      <td>balkan</td>\n",
              "      <td>1</td>\n",
              "    </tr>\n",
              "  </tbody>\n",
              "</table>\n",
              "</div>"
            ],
            "text/plain": [
              "                genre_name\n",
              "genre_name                \n",
              "acoustic                 1\n",
              "adult                    1\n",
              "alternative             63\n",
              "ambient                  7\n",
              "americana                1\n",
              "anime                    3\n",
              "arabesk                  2\n",
              "argentinetango           2\n",
              "avantgarde               2\n",
              "balkan                   1"
            ]
          },
          "execution_count": 48,
          "metadata": {},
          "output_type": "execute_result"
        }
      ]
    },
    {
      "cell_type": "markdown",
      "metadata": {
        "deletable": false,
        "id": "UenYBZTIwYT-"
      },
      "source": [
        "Популярные жанры в понедельник утром в Питере и Москве оказались похожи: везде, как и предполагалось, популярен поп. Несмотря на это, концовка топ-10 для двух городов различается: в Питере в топ-10 входит джаз и русский рэп, а в Москве жанр *world*.\n",
        "\n",
        "В конце недели ситуация не меняется. Поп-музыка всё так же на первом месте. Опять разница заметна только в концовке топ-10, где в Питере пятничным вечером тоже присутствует жанр *world*."
      ]
    },
    {
      "cell_type": "markdown",
      "metadata": {
        "deletable": false,
        "id": "MBxfrKPAykp_"
      },
      "source": [
        "**Вывод**"
      ]
    },
    {
      "cell_type": "markdown",
      "metadata": {
        "deletable": false,
        "id": "j8ypBMwSymL6"
      },
      "source": [
        "Жанр поп безусловный лидер, а топ-5 в целом не различается в обеих столицах. При этом видно, что концовка списка более «живая»: для каждого города выделяются более характерные жанры, которые действительно меняют свои позиции в зависимости от дня недели и времени."
      ]
    },
    {
      "cell_type": "markdown",
      "metadata": {
        "deletable": false,
        "editable": false,
        "id": "D7YMmgKRw270",
        "tags": [
          "f363205e-76b1-4883-abf1-bf21c9572dc7"
        ]
      },
      "source": [
        "# Москва и Питер — две разные столицы, два разных направления в музыке. Правда?"
      ]
    },
    {
      "cell_type": "markdown",
      "metadata": {
        "deletable": false,
        "id": "Wc5srT13zb4Z"
      },
      "source": [
        "Гипотеза: Питер богат своей рэп-культурой, поэтому это направление там слушают чаще, а Москва — город контрастов, но основная масса пользователей слушает попсу.\n",
        "\n"
      ]
    },
    {
      "cell_type": "markdown",
      "metadata": {
        "deletable": false,
        "id": "2SFE9_RV2KEL"
      },
      "source": [
        "Сгруппируем таблицу *moscow_general* по жанру, сосчитаем численность композиций каждого жанра методом *count()*, отсортируем в порядке убывания и сохраним результат в таблице *moscow_genres*.\n",
        "\n",
        "Просмотрим первые 10 строк этой новой таблицы."
      ]
    },
    {
      "cell_type": "code",
      "metadata": {
        "deletable": false,
        "id": "OohoTcsYBheo",
        "outputId": "7457cfd2-547f-4c5e-cad6-9cc24997b0d6"
      },
      "source": [
        "# одной строкой: группировка таблицы moscow_general по столбцу 'genre_name', \n",
        "# подсчёт числа значений 'genre_name' в этой группировке методом count(), \n",
        "# сортировка Series в порядке убывания и сохранение в moscow_genres\n",
        "moscow_genres = moscow_general.groupby('genre_name')['genre_name'].count().sort_values(ascending=False)\n",
        "moscow_genres"
      ],
      "execution_count": null,
      "outputs": [
        {
          "data": {
            "text/plain": [
              "genre_name\n",
              "pop            5892\n",
              "dance          4435\n",
              "rock           3965\n",
              "electronic     3786\n",
              "hiphop         2096\n",
              "               ... \n",
              "malaysian         1\n",
              "marschmusik       1\n",
              "metalcore         1\n",
              "mood              1\n",
              "acid              1\n",
              "Name: genre_name, Length: 266, dtype: int64"
            ]
          },
          "execution_count": 85,
          "metadata": {},
          "output_type": "execute_result"
        }
      ]
    },
    {
      "cell_type": "code",
      "metadata": {
        "deletable": false,
        "id": "h7IhIKDrBher",
        "outputId": "636ef2e5-1a7c-4d49-8df8-062a1224c53a"
      },
      "source": [
        "# <просмотр первых 10 строк moscow_genres>\n",
        "moscow_genres.head(10)"
      ],
      "execution_count": null,
      "outputs": [
        {
          "data": {
            "text/plain": [
              "genre_name\n",
              "pop            5892\n",
              "dance          4435\n",
              "rock           3965\n",
              "electronic     3786\n",
              "hiphop         2096\n",
              "classical      1616\n",
              "world          1432\n",
              "alternative    1379\n",
              "ruspop         1372\n",
              "rusrap         1161\n",
              "Name: genre_name, dtype: int64"
            ]
          },
          "execution_count": 86,
          "metadata": {},
          "output_type": "execute_result"
        }
      ]
    },
    {
      "cell_type": "markdown",
      "metadata": {
        "deletable": false,
        "editable": false,
        "id": "gjnf0lol2fUy",
        "tags": [
          "f7503a48-1b28-483d-9f7b-bae79fb182b5"
        ]
      },
      "source": [
        "Сгруппируем таблицу *spb_general* по жанру, сосчитаем численность композиций каждого жанра методом *count()*, отсортируем в порядке убывания и сохраним результат в таблице *spb_genres*.\n",
        "\n",
        "Просматриваем первые 10 строк этой таблицы. Теперь можно сравнивать два города."
      ]
    },
    {
      "cell_type": "code",
      "metadata": {
        "deletable": false,
        "id": "eQrdA85dB1LO",
        "outputId": "c0c05e68-9e83-4ddb-82cd-f4de3ea3f0de"
      },
      "source": [
        "# <группировка таблицы spb_general, расчёт, сохранение в spb_genres>\n",
        "spb_genres = spb_general.groupby('genre_name')['genre_name'].count().sort_values(ascending=False)\n",
        "spb_genres"
      ],
      "execution_count": null,
      "outputs": [
        {
          "data": {
            "text/plain": [
              "genre_name\n",
              "pop           2431\n",
              "dance         1932\n",
              "rock          1879\n",
              "electronic    1736\n",
              "hiphop         960\n",
              "              ... \n",
              "laiko            1\n",
              "leftfield        1\n",
              "mandopop         1\n",
              "mexican          1\n",
              "japanese         1\n",
              "Name: genre_name, Length: 210, dtype: int64"
            ]
          },
          "execution_count": 87,
          "metadata": {},
          "output_type": "execute_result"
        }
      ]
    },
    {
      "cell_type": "code",
      "metadata": {
        "deletable": false,
        "id": "AE-Z-1wCB1LS",
        "outputId": "4d4c9f96-4b9a-44f5-c4ab-9b8b3c7d6b17"
      },
      "source": [
        "# <просмотр первых 10 строк spb_genres>\n",
        "spb_genres.head(10)"
      ],
      "execution_count": null,
      "outputs": [
        {
          "data": {
            "text/plain": [
              "genre_name\n",
              "pop            2431\n",
              "dance          1932\n",
              "rock           1879\n",
              "electronic     1736\n",
              "hiphop          960\n",
              "alternative     649\n",
              "classical       646\n",
              "rusrap          564\n",
              "ruspop          538\n",
              "world           515\n",
              "Name: genre_name, dtype: int64"
            ]
          },
          "execution_count": 89,
          "metadata": {},
          "output_type": "execute_result"
        }
      ]
    },
    {
      "cell_type": "markdown",
      "metadata": {
        "deletable": false,
        "id": "J5E-kLgK2piO"
      },
      "source": [
        "**Вывод**"
      ]
    },
    {
      "cell_type": "markdown",
      "metadata": {
        "deletable": false,
        "id": "-9R3-Qh02tNt"
      },
      "source": [
        "В Москве, кроме абсолютно популярного жанра поп, есть направление русской популярной музыки. Значит, что интерес к этому жанру шире. А рэп, вопреки предположению, занимает в обоих городах близкие позиции."
      ]
    },
    {
      "cell_type": "markdown",
      "metadata": {
        "deletable": false,
        "editable": false,
        "id": "gLlT9nKMQ3ky",
        "tags": [
          "0d44c8c0-390b-4c9e-b797-ddc3993f6e58"
        ]
      },
      "source": [
        "# Этап 4. Результаты исследования\n"
      ]
    },
    {
      "cell_type": "markdown",
      "metadata": {
        "deletable": false,
        "id": "GtvyRBbD7dv5"
      },
      "source": [
        "Рабочие гипотезы:\n",
        "\n",
        "* музыку в двух городах — Москве и Санкт-Петербурге — слушают в разном режиме;\n",
        "\n",
        "* списки десяти самых популярных жанров утром в понедельник и вечером в пятницу имеют характерные отличия;\n",
        "\n",
        "* население двух городов предпочитает разные музыкальные жанры.\n",
        "\n",
        "**Общие результаты**\n",
        "\n",
        "Москва и Петербург сходятся во вкусах: везде преобладает популярная музыка. При этом зависимости предпочтений от дня недели в каждом отдельном городе нет — люди постоянно слушают то, что им нравится. Но между городами в разрезе дней неделей наблюдается зеркальность относительно среды: Москва больше слушает в понедельник и пятницу, а Петербург наоборот - больше в среду, но меньше в понедельник и пятницу.\n",
        "\n",
        "В результате первая гипотеза не подтверждена, вторая гипотеза не подтверждена > и третья < укажите подтверждена/не подтверждена >."
      ]
    }
  ]
}